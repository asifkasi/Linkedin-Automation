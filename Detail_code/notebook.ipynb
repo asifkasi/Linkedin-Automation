{
 "cells": [
  {
   "cell_type": "code",
   "execution_count": 1,
   "metadata": {},
   "outputs": [
    {
     "name": "stdout",
     "output_type": "stream",
     "text": [
      "Hi,\n",
      "Asif Kasi here this is small project to help jobless people to get follows of HR Tech Recruiters.\n",
      "Regards,\n",
      "Asif Kasi (www.linkedin.com/in/asifkasi)\n",
      "\n",
      "\n"
     ]
    }
   ],
   "source": [
    "from selenium import webdriver\n",
    "import sys\n",
    "import pandas as pd\n",
    "from webdriver_manager.chrome import ChromeDriverManager\n",
    "from time import sleep\n",
    "import warnings \n",
    "\n",
    "warnings.filterwarnings('ignore')\n",
    "import os\n",
    "clear = lambda: os.system('cls')\n",
    "\n",
    "var_Intro = '''Hi,\n",
    "Asif Kasi here this is small project to help jobless people to get follows of HR Tech Recruiters.\n",
    "Regards,\n",
    "Asif Kasi (www.linkedin.com/in/asifkasi)\n",
    "\n",
    "'''\n",
    "print(var_Intro)"
   ]
  },
  {
   "cell_type": "code",
   "execution_count": 2,
   "metadata": {},
   "outputs": [],
   "source": [
    "driver = webdriver.Chrome(ChromeDriverManager().install())\n",
    "driver.get('https://www.linkedin.com/')"
   ]
  },
  {
   "cell_type": "code",
   "execution_count": 3,
   "metadata": {},
   "outputs": [
    {
     "name": "stdout",
     "output_type": "stream",
     "text": [
      "Hi,\n",
      "Asif Kasi here this is small project to help jobless people to get follows of HR Tech Recruiters.\n",
      "Regards,\n",
      "Asif Kasi (www.linkedin.com/in/asifkasi)\n",
      "\n",
      "\n"
     ]
    }
   ],
   "source": [
    "\n",
    "df = pd.read_csv(\"list_of_hr_recruiter_with_profile_links_by_AsifKasi.csv\")\n",
    "# clear()\n",
    "print(var_Intro)\n"
   ]
  },
  {
   "cell_type": "code",
   "execution_count": 4,
   "metadata": {},
   "outputs": [],
   "source": [
    "# df['0'] = df.index.to_list()\n",
    "# # also convrt type into object\n",
    "# # df['0'] = df['0'].astype(str)\n",
    "# df\n",
    "# df_not_send = pd.read_csv(\"not_followed.csv\")\n",
    "# # df_not_send[\"0\"] = df_not_send[\"0\"].astype(int)\n",
    "# df_not_send\n",
    "\n",
    "# # display(df_not_send.columns,df.columns)\n",
    "# display(df_not_send.info(),df.info())\n",
    "\n",
    "\n",
    "\n",
    "# df1 = pd.merge(df,df_not_send,on = \"0\",how=\"inner\")\n",
    "# df1\n",
    "# df1.iloc[2]\n",
    "# i = 27\n",
    "# link = df1[\"LinkedIn Profile URL\"][i]\n",
    "# sleep(5)\n",
    "\n",
    "# driver.get(link)\n",
    "# sleep(2)\n",
    "\n",
    "# driver.execute_script(\"window.scrollTo(0, document.body.scrollHeight);\")\n",
    "# sleep(3)\n",
    "\n",
    "\n",
    "# # to follow Activity\n",
    "# follow_button = driver.find_element(\"xpath\",'//button[@class=\"artdeco-button artdeco-button--2 artdeco-button--primary ember-view pvs-sticky-header-profile-actions__action\"]')\n",
    "# sleep(3)\n",
    "# follow_button.click()\n",
    "\n",
    "\n",
    "# # to connect\n",
    "# connect_button = driver.find_element(\"xpath\",'//button[@class=\"artdeco-button artdeco-button--2 artdeco-button--secondary ember-view pvs-sticky-header-profile-actions__action\"]')\n",
    "# connect_button.click()\n",
    "\n"
   ]
  },
  {
   "cell_type": "code",
   "execution_count": 5,
   "metadata": {},
   "outputs": [
    {
     "data": {
      "text/plain": [
       "''"
      ]
     },
     "execution_count": 5,
     "metadata": {},
     "output_type": "execute_result"
    }
   ],
   "source": [
    "input()"
   ]
  },
  {
   "cell_type": "code",
   "execution_count": 6,
   "metadata": {},
   "outputs": [
    {
     "name": "stdout",
     "output_type": "stream",
     "text": [
      "20\n",
      "error on  20: <class 'selenium.common.exceptions.NoSuchElementException'>\n",
      "21\n",
      "22\n",
      "23\n",
      "24\n"
     ]
    }
   ],
   "source": [
    "list_not_follow = []\n",
    "# input(\"Press Enter key to continue after login: \")\n",
    "# df= df1\n",
    "# for i in range(len(df)):\n",
    "for i in range(20,25,1):\n",
    "\n",
    "    try:    \n",
    "        print(i)\n",
    "        link = df[\"LinkedIn Profile URL\"][i]\n",
    "        sleep(5)\n",
    "\n",
    "        driver.get(link)\n",
    "        sleep(3)\n",
    "\n",
    "        driver.execute_script(\"window.scrollTo(0, document.body.scrollHeight);\")\n",
    "\n",
    "        sleep(5)\n",
    "\n",
    "        # to follow Activity\n",
    "        follow_button = driver.find_element(\"xpath\",'//button[@class=\"artdeco-button artdeco-button--2 artdeco-button--primary ember-view pvs-sticky-header-profile-actions__action\"]')\n",
    "        follow_button.click()\n",
    "\n",
    "        # driver.find_element(\"xpath\",'//span[@class=\"artdeco-button__text\"]')\n",
    "        \n",
    "        # var = follow_button.text\n",
    "        # print(var)\n",
    "        # if follow_button.text == \"Follow\":\n",
    "        #     follow_button.click()\n",
    "        #     # follow_button.click()\n",
    "        #     sleep(2)\n",
    "    except:\n",
    "        try:\n",
    "                \n",
    "            if driver.current_url != \"https://www.linkedin.com/404/\":    \n",
    "                # to connect\n",
    "                connect_button = driver.find_element(\"xpath\",'//button[@class=\"artdeco-button artdeco-button--2 artdeco-button--secondary ember-view pvs-sticky-header-profile-actions__action\"]')\n",
    "                connect_button.click()\n",
    "                sleep(2)\n",
    "            else:\n",
    "                list_not_follow.append(str(i)+ \":\"+driver.current_url)\n",
    "\n",
    "        except:\n",
    "            \n",
    "            list_not_follow.append(str(i)+ \":\"+driver.current_url)\n",
    "            print(\"error on \",i,end=\": \")\n",
    "            print(sys.exc_info()[0])\n",
    "\n",
    "pd.DataFrame(list_not_follow).to_csv(\"not_followed.csv\",index=False)\n"
   ]
  },
  {
   "cell_type": "code",
   "execution_count": null,
   "metadata": {},
   "outputs": [],
   "source": [
    "pd.DataFrame(list_not_follow).to_csv(\"not_followed.csv\",index=False)\n"
   ]
  }
 ],
 "metadata": {
  "kernelspec": {
   "display_name": "Python 3",
   "language": "python",
   "name": "python3"
  },
  "language_info": {
   "codemirror_mode": {
    "name": "ipython",
    "version": 3
   },
   "file_extension": ".py",
   "mimetype": "text/x-python",
   "name": "python",
   "nbconvert_exporter": "python",
   "pygments_lexer": "ipython3",
   "version": "3.9.13"
  },
  "orig_nbformat": 4
 },
 "nbformat": 4,
 "nbformat_minor": 2
}
