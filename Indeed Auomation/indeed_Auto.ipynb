{
 "cells": [
  {
   "cell_type": "code",
   "execution_count": 1,
   "metadata": {},
   "outputs": [],
   "source": [
    "# Import libraries\n",
    "import requests\n",
    "from bs4 import BeautifulSoup\n",
    "import pandas as pd\n",
    "import re\n",
    "import os\n",
    "import glob\n",
    "import warnings \n",
    "warnings.filterwarnings('ignore')\n",
    "import time\n",
    "from selenium import webdriver\n",
    "from webdriver_manager.chrome import ChromeDriverManager\n",
    "from selenium.webdriver.common.action_chains import ActionChains\n",
    "options = webdriver.ChromeOptions()\n",
    "# options.add_argument(r\"C:\\Users\\Asif-LFD\\AppData\\Local\\Google\\Chrome\\User Data\\Profile 1\")\n",
    "driver = webdriver.Chrome(ChromeDriverManager().install(),options=options)\n",
    "# from selenium import webdriver\n",
    "from selenium.webdriver.common.by import By\n",
    "import pytesseract\n",
    "# from PIL import Image\n",
    "# import io\n",
    "# import cv2\n",
    "# import pytesseract\n",
    "import numpy as np\n",
    "import re\n",
    "\n"
   ]
  },
  {
   "cell_type": "code",
   "execution_count": 2,
   "metadata": {},
   "outputs": [],
   "source": [
    "url = \"https://pk.indeed.com/\"\n",
    "driver.get(url)\n",
    "time.sleep(2)"
   ]
  },
  {
   "attachments": {},
   "cell_type": "markdown",
   "metadata": {},
   "source": [
    "# input keyword (input variable may be 1. job title 2. where) \n",
    "1. clear() kaam nahi kar rha dyk lyna bad me"
   ]
  },
  {
   "cell_type": "code",
   "execution_count": 3,
   "metadata": {},
   "outputs": [],
   "source": [
    "var_key_word_job = \"frontend\"\n",
    "var_key_word_where = \"karachi\"\n",
    "var_btn_keyword = driver.find_element(\"xpath\",\"/html/body/div/div[1]/div/span/div[3]/div[1]/div/div/div/div/form/div/div[1]/div/div[1]/div/div[2]/input\")\n",
    "var_btn_keyword.clear()\n",
    "var_btn_keyword.send_keys(var_key_word_job)\n",
    "time.sleep(2)\n",
    "\n",
    "var_btn_keyword = driver.find_element(\"xpath\",\"/html/body/div/div[1]/div/span/div[3]/div[1]/div/div/div/div/form/div/div[2]/div/div[1]/div/div[2]/input\")\n",
    "var_btn_keyword.clear()\n",
    "var_btn_keyword.send_keys(var_key_word_where)\n",
    "time.sleep(2)\n",
    "\n",
    "\n",
    "\n",
    "# click find jon button\n",
    "driver.find_element(\"xpath\",\"/html/body/div/div[1]/div/span/div[3]/div[1]/div/div/div/div/form/button\").click()\n"
   ]
  },
  {
   "cell_type": "code",
   "execution_count": 4,
   "metadata": {},
   "outputs": [
    {
     "name": "stdout",
     "output_type": "stream",
     "text": [
      "There are 127 jobs\n"
     ]
    }
   ],
   "source": [
    "print(\"There are \"+ driver.find_element(\"xpath\",\"/html/body/main/div/div[1]/div/div/div[5]/div[1]/div[4]/div/div/div[2]/span[1]\").text)"
   ]
  },
  {
   "attachments": {},
   "cell_type": "markdown",
   "metadata": {},
   "source": [
    "# left side me companies ki details jo ati list wise os ka code\n",
    "\n",
    "1. div (id = 'mosaic-provider-jobcards') k andar \"ul\" ka tag id\n",
    "2. ul k andar \"li\" ka tag {har li me indivdual company ka card}\n",
    "3. li k andar div class \"job_seen_beacon\" os k andar sara data\n",
    "\n",
    "\n",
    "\n",
    "\n"
   ]
  },
  {
   "cell_type": "code",
   "execution_count": 5,
   "metadata": {},
   "outputs": [
    {
     "name": "stdout",
     "output_type": "stream",
     "text": [
      "18\n"
     ]
    }
   ],
   "source": [
    "var_cards_company_data = driver.find_element(\"xpath\",\"//div[@id='mosaic-provider-jobcards']\").find_elements(\"xpath\",\"ul/li\")\n",
    "\n",
    "print(len(var_cards_company_data))\n",
    "# saving all data into csv\n",
    "var_csv_cols = ['job_title','company_name',\t'location',\t'salary_range',\t'job_type',\t'description',\t'job_link',\t'indeedApply',\"hiringMultipleCandidates\",\"posted_date\"]\n",
    "\n",
    "\n",
    "# makinf df having columns of var_csv_cols\n",
    "df = pd.DataFrame(columns=var_csv_cols)\n"
   ]
  },
  {
   "cell_type": "code",
   "execution_count": 9,
   "metadata": {},
   "outputs": [],
   "source": [
    "# clicking on each card company name\n",
    "var_cards_company_data[10].click()\n"
   ]
  },
  {
   "cell_type": "code",
   "execution_count": 10,
   "metadata": {},
   "outputs": [
    {
     "name": "stdout",
     "output_type": "stream",
     "text": [
      "<div class=\"cardOutline tapItem dd-privacy-allow result job_70705211ffc82088 resultWithShelf sponTapItem desktop vjs-highlight css-kyg8or eu4oa1w0\">\n",
      " <div class=\"slider_container css-8xisqv eu4oa1w0\" dir=\"auto\">\n",
      "  <div class=\"slider_list css-kyg8or eu4oa1w0\">\n",
      "   <div class=\"slider_item css-kyg8or eu4oa1w0\">\n",
      "    <div class=\"job_seen_beacon\">\n",
      "     <table cellpadding=\"0\" cellspacing=\"0\" class=\"jobCard_mainContent big6_visualChanges\" role=\"presentation\">\n",
      "      <tbody>\n",
      "       <tr>\n",
      "        <td class=\"resultContent\">\n",
      "         <div class=\"css-1m4cuuf e37uo190\">\n",
      "          <h2 class=\"jobTitle jobTitle-newJob css-bdjp2m eu4oa1w0\" tabindex=\"-1\">\n",
      "           <a aria-label=\"full details of Frontend Engineer\" class=\"jcs-JobTitle css-jspxzf eu4oa1w0\" data-hide-spinner=\"true\" data-hiring-event=\"false\" data-jk=\"70705211ffc82088\" data-mobtk=\"1h3ihrii5jv6e800\" href=\"/company/Pinnacle-Enterprise/jobs/Front-End-Developer-70705211ffc82088?fccid=d1b535218451dc50&amp;vjs=3\" id=\"job_70705211ffc82088\" role=\"button\">\n",
      "            <span id=\"jobTitle-70705211ffc82088\" title=\"Frontend Engineer\">\n",
      "             Frontend Engineer\n",
      "            </span>\n",
      "           </a>\n",
      "          </h2>\n",
      "          <div class=\"new css-ud6i3y eu4oa1w0\">\n",
      "           <span class=\"label css-1qj35nq eu4oa1w0\">\n",
      "            new\n",
      "           </span>\n",
      "          </div>\n",
      "         </div>\n",
      "         <div class=\"heading6 company_location tapItem-gutter companyInfo\">\n",
      "          <span class=\"companyName\">\n",
      "           PINNACLE ENTERPRISE\n",
      "          </span>\n",
      "          <div class=\"companyLocation\">\n",
      "           Karachi\n",
      "          </div>\n",
      "         </div>\n",
      "         <div class=\"heading6 tapItem-gutter metadataContainer noJEMChips salaryOnly\">\n",
      "          <div class=\"metadata salary-snippet-container\">\n",
      "           <div class=\"attribute_snippet\" data-testid=\"attribute_snippet_testid\">\n",
      "            <svg aria-hidden=\"true\" aria-label=\"Salary\" fill=\"none\" role=\"presentation\" viewbox=\"0 0 16 13\" xmlns=\"http://www.w3.org/2000/svg\">\n",
      "             <defs>\n",
      "             </defs>\n",
      "             <path clip-rule=\"evenodd\" d=\"M2.45168 6.10292c-.30177-.125-.62509-.18964-.95168-.1903V4.08678c.32693-.00053.6506-.06518.95267-.1903.30331-.12564.57891-.30979.81105-.54193.23215-.23215.4163-.50775.54194-.81106.12524-.30237.18989-.62638.19029-.95365H9.0902c0 .3283.06466.65339.1903.9567.12564.30331.30978.57891.54193.81106.23217.23215.50777.41629.81107.54193.3032.12558.6281.19024.9562.1903v1.83556c-.3242.00155-.6451.06616-.9448.19028-.3033.12563-.5789.30978-.81102.54193-.23215.23214-.4163.50774-.54193.81106-.12332.2977-.18789.61638-.19024.93849H3.99496c-.00071-.32645-.06535-.64961-.19029-.95124-.12564-.30332-.30979-.57891-.54193-.81106-.23215-.23215-.50775-.4163-.81106-.54193zM0 .589843C0 .313701.223858.0898438.5.0898438h12.0897c.2762 0 .5.2238572.5.5000002V9.40715c0 .27614-.2238.5-.5.5H.5c-.276143 0-.5-.22386-.5-.5V.589843zM6.54427 6.99849c1.10457 0 2-.89543 2-2s-.89543-2-2-2-2 .89543-2 2 .89543 2 2 2zm8.05523-2.69917v7.10958H2.75977c-.27615 0-.5.2238-.5.5v.5c0 .2761.22385.5.5.5H15.422c.4419 0 .6775-.2211.6775-.6629V4.29932c0-.27615-.2239-.5-.5-.5h-.5c-.2761 0-.5.22385-.5.5z\" fill=\"#595959\" fill-rule=\"evenodd\">\n",
      "             </path>\n",
      "            </svg>\n",
      "            Rs 90,000 - Rs 100,000 a month\n",
      "           </div>\n",
      "          </div>\n",
      "          <div class=\"attribute_snippet\">\n",
      "           Bachelor's\n",
      "          </div>\n",
      "          <div class=\"attribute_snippet\">\n",
      "           Ènglish\n",
      "          </div>\n",
      "          <div class=\"attribute_snippet\">\n",
      "           Frontend Engineer: 2 years\n",
      "          </div>\n",
      "          <span class=\"jobCardReqMore\">\n",
      "           + 2 more\n",
      "          </span>\n",
      "         </div>\n",
      "         <div class=\"heading6 error-text tapItem-gutter\">\n",
      "         </div>\n",
      "        </td>\n",
      "       </tr>\n",
      "      </tbody>\n",
      "     </table>\n",
      "     <table class=\"jobCardShelfContainer big6_visualChanges\" role=\"presentation\">\n",
      "      <tbody>\n",
      "       <tr class=\"jobCardShelf\">\n",
      "        <td class=\"shelfItem indeedApply\">\n",
      "         <span class=\"iaIcon\">\n",
      "         </span>\n",
      "         <span class=\"ialbl iaTextBlack\">\n",
      "          Easily apply\n",
      "         </span>\n",
      "        </td>\n",
      "       </tr>\n",
      "       <tr class=\"underShelfFooter\">\n",
      "        <td>\n",
      "         <div class=\"heading6 tapItem-gutter result-footer\">\n",
      "          <div class=\"job-snippet\">\n",
      "           <ul style=\"list-style-type:circle;margin-top: 0px;margin-bottom: 0px;padding-left:20px;\">\n",
      "            <li style=\"margin-bottom:0px;\">\n",
      "             Stay up to date with industry trends, advancements, and emerging technologies related to\n",
      "             <b>\n",
      "              frontend\n",
      "             </b>\n",
      "             development.\n",
      "            </li>\n",
      "            <li>\n",
      "             Strong proficiency in HTML, CSS, and JavaScript.\n",
      "            </li>\n",
      "           </ul>\n",
      "          </div>\n",
      "          <span class=\"date\">\n",
      "           <span class=\"visually-hidden\">\n",
      "            Employer\n",
      "           </span>\n",
      "           Active 3 days ago\n",
      "          </span>\n",
      "          <span class=\"result-link-bar-separator\">\n",
      "           ·\n",
      "          </span>\n",
      "          <button aria-expanded=\"false\" class=\"sl resultLink more_links_button\" type=\"button\">\n",
      "           More...\n",
      "          </button>\n",
      "         </div>\n",
      "         <div class=\"tab-container\">\n",
      "          <div class=\"more-links-container result-tab\">\n",
      "           <div class=\"more_links\">\n",
      "            <button aria-label=\"Close\" class=\"close-button\" title=\"Close\" type=\"button\">\n",
      "            </button>\n",
      "            <ul>\n",
      "             <li>\n",
      "              <span class=\"mat\">\n",
      "               View all\n",
      "               <a href=\"/q-pinnacle-enterprise-jobs.html\">\n",
      "                PINNACLE ENTERPRISE jobs\n",
      "               </a>\n",
      "               -\n",
      "               <a href=\"/l-karachi-jobs.html\">\n",
      "                Karachi jobs\n",
      "               </a>\n",
      "               -\n",
      "               <a href=\"/q-front-end-developer-l-karachi-jobs.html\">\n",
      "                Front End Developer jobs in Karachi\n",
      "               </a>\n",
      "              </span>\n",
      "             </li>\n",
      "             <li>\n",
      "              <span class=\"mat\">\n",
      "               Salary Search:\n",
      "               <a href=\"/career/front-end-developer/salaries/Karachi?campaignid=serp-more&amp;fromjk=70705211ffc82088&amp;from=serp-more\">\n",
      "                Frontend Engineer salaries in Karachi\n",
      "               </a>\n",
      "              </span>\n",
      "             </li>\n",
      "             <li>\n",
      "              <span class=\"mat\">\n",
      "               See popular\n",
      "               <a href=\"/cmp/Pinnacle-Enterprise/faq\">\n",
      "                questions &amp; answers about PINNACLE ENTERPRISE\n",
      "               </a>\n",
      "              </span>\n",
      "             </li>\n",
      "            </ul>\n",
      "           </div>\n",
      "          </div>\n",
      "         </div>\n",
      "        </td>\n",
      "       </tr>\n",
      "      </tbody>\n",
      "     </table>\n",
      "     <div aria-live=\"polite\">\n",
      "     </div>\n",
      "    </div>\n",
      "   </div>\n",
      "   <div class=\"slider_sub_item css-kyg8or eu4oa1w0\">\n",
      "   </div>\n",
      "  </div>\n",
      " </div>\n",
      " <div aria-labelledby=\"jobActionButton-70705211ffc82088 jobTitle-70705211ffc82088\" class=\"kebabMenu\" role=\"group\">\n",
      "  <span aria-live=\"polite\" class=\"visually-hidden\">\n",
      "  </span>\n",
      "  <button aria-expanded=\"false\" aria-haspopup=\"true\" aria-label=\"Job Actions menu is collapsed\" class=\"kebabMenu-button\" id=\"jobActionButton-70705211ffc82088\">\n",
      "   <svg aria-hidden=\"true\" fill=\"none\" height=\"24\" role=\"presentation\" viewbox=\"0 0 24 24\" width=\"24\" xmlns=\"http://www.w3.org/2000/svg\">\n",
      "    <path d=\"M12 7C13.1 7 14 6.1 14 5C14 3.9 13.1 3 12 3C10.9 3 10 3.9 10 5C10 6.1 10.9 7 12 7ZM12 10C10.9 10 10 10.9 10 12C10 13.1 10.9 14 12 14C13.1 14 14 13.1 14 12C14 10.9 13.1 10 12 10ZM12 17C10.9 17 10 17.9 10 19C10 20.1 10.9 21 12 21C13.1 21 14 20.1 14 19C14 17.9 13.1 17 12 17Z\" fill=\"#2d2d2d\">\n",
      "    </path>\n",
      "   </svg>\n",
      "  </button>\n",
      " </div>\n",
      "</div>\n",
      "<span aria-live=\"polite\" class=\"visually-hidden\">\n",
      "</span>\n"
     ]
    }
   ],
   "source": [
    "# temp\n",
    "soup = BeautifulSoup(var_cards_company_data[10].get_attribute('innerHTML'), 'html.parser')\n",
    "print(soup.prettify())"
   ]
  },
  {
   "cell_type": "code",
   "execution_count": 12,
   "metadata": {},
   "outputs": [
    {
     "data": {
      "text/plain": [
       "'Rs 30,000 - Rs 35,000 a month'"
      ]
     },
     "execution_count": 12,
     "metadata": {},
     "output_type": "execute_result"
    }
   ],
   "source": [
    "try:\n",
    "    # find salary\n",
    "    salary_range=var_cards_company_data[10].find_element(\"xpath\",\"//table[@class='jobCard_mainContent big6_visualChanges']\").find_element(\"xpath\",\"//tr\").find_element(\"xpath\",\"td\").find_element(\"xpath\",\"div[@class='heading6 tapItem-gutter metadataContainer noJEMChips salaryOnly']\").find_element(\"xpath\",\"div[@class='metadata salary-snippet-container']\").text\n",
    "except:\n",
    "    salary_range = \"undefine\"\n",
    "\n",
    "salary_range\n"
   ]
  },
  {
   "cell_type": "code",
   "execution_count": 13,
   "metadata": {},
   "outputs": [
    {
     "name": "stdout",
     "output_type": "stream",
     "text": [
      "['indeedApply', 'hiringMultipleCandidates']\n"
     ]
    }
   ],
   "source": [
    "soup = BeautifulSoup(var_cards_company_data[10].find_element(\"xpath\",\"//tr[@class = 'jobCardShelf']\").get_attribute('innerHTML'), 'html.parser')\n",
    "# print(soup.prettify())\n",
    "\n",
    "html = str(soup.prettify())\n",
    "\n",
    "regex = r'td class=\"shelfItem ([^\"]*)\">'\n",
    "\n",
    "matches = re.findall(regex, html)\n",
    "next_words = [match.strip() for match in matches]\n",
    "\n",
    "print(next_words)\n"
   ]
  },
  {
   "cell_type": "code",
   "execution_count": 27,
   "metadata": {},
   "outputs": [
    {
     "data": {
      "text/plain": [
       "'Active 2 days ago'"
      ]
     },
     "execution_count": 27,
     "metadata": {},
     "output_type": "execute_result"
    }
   ],
   "source": [
    "# posted date\n",
    "posted_date = var_cards_company_data[10].find_element(\"xpath\",\"//table[@class = 'jobCardShelfContainer big6_visualChanges']\").find_element(\"xpath\",\"//tr[@class = 'underShelfFooter']\").find_element(\"xpath\",\"//span[@class='date']\").text.split(\"\\n\")[-1]\n",
    "posted_date\n"
   ]
  },
  {
   "attachments": {},
   "cell_type": "markdown",
   "metadata": {},
   "source": [
    "#  right portion"
   ]
  },
  {
   "cell_type": "code",
   "execution_count": 97,
   "metadata": {},
   "outputs": [
    {
     "name": "stdout",
     "output_type": "stream",
     "text": [
      "<div class=\"jobsearch-JobComponent-embeddedHeader\">\n",
      " <div class=\"jobsearch-HeaderContainer\">\n",
      "  <div class=\"jobsearch-InfoHeaderContainer\">\n",
      "   <div>\n",
      "    <div class=\"jobsearch-JobInfoHeader-title-container\">\n",
      "     <h2 class=\"icl-u-xs-mb--xs icl-u-xs-mt--none jobsearch-JobInfoHeader-title is-embedded\" dir=\"ltr\" lang=\"en\">\n",
      "      <span>\n",
      "       Frontend Developer MT\n",
      "       <span class=\"css-1syol37 esbq1260\">\n",
      "        - job post\n",
      "       </span>\n",
      "      </span>\n",
      "     </h2>\n",
      "    </div>\n",
      "    <div class=\"jobsearch-CompanyInfoContainer\">\n",
      "     <div class=\"jobsearch-CompanyInfoWithoutHeaderImage\">\n",
      "      <div>\n",
      "       <div class=\"css-1qz04qx eu4oa1w0\">\n",
      "        <div class=\"css-1h46us2 eu4oa1w0\">\n",
      "         <div class=\"css-1cjkto6 eu4oa1w0\" data-company-name=\"true\">\n",
      "          <a href=\"https://pk.indeed.com/cmp/Avialdo-Solutions?campaignid=mobvjcmp&amp;from=mobviewjob&amp;tk=1h3iftot1jtuk800&amp;fromjk=3de2311962e93f75\" target=\"_blank\">\n",
      "           Avialdo Solutions\n",
      "          </a>\n",
      "         </div>\n",
      "        </div>\n",
      "        <div class=\"css-6z8o9s eu4oa1w0\">\n",
      "         <div>\n",
      "          Karachi\n",
      "         </div>\n",
      "        </div>\n",
      "        <div class=\"css-6z8o9s eu4oa1w0\">\n",
      "        </div>\n",
      "       </div>\n",
      "      </div>\n",
      "     </div>\n",
      "    </div>\n",
      "   </div>\n",
      "   <div class=\"css-kyg8or eu4oa1w0\">\n",
      "    <div>\n",
      "    </div>\n",
      "   </div>\n",
      "   <div class=\"icl-Grid icl-Grid--gutters\">\n",
      "    <div class=\"jobsearch-ViewJobButtons-container is-embedded icl-Grid-col icl-u-xs-span12 css-188irao eu4oa1w0\" id=\"jobsearch-ViewJobButtons-container\">\n",
      "     <div class=\"mosaic mosaic-empty-zone\" id=\"aboveViewjobButtons\">\n",
      "     </div>\n",
      "     <div class=\"jobsearch-ButtonContainer-inlineBlock icl-u-lg-inlineBlock css-kyg8or eu4oa1w0\">\n",
      "      <div class=\"jobsearch-IndeedApplyButton css-1ljcmzr eu4oa1w0\">\n",
      "       <div class=\"ia-IndeedApplyButton\">\n",
      "        <span class=\"indeed-apply-widget indeed-apply-button-container indeed-apply-status-not-applied\" data-indeed-apply-advnum=\"3936756211886046\" data-indeed-apply-apitoken=\"aa102235a5ccb18bd3668c0e14aa3ea7e2503cfac2a7a9bf3d6549899e125af4\" data-indeed-apply-coverletter=\"optional\" data-indeed-apply-jk=\"3de2311962e93f75\" data-indeed-apply-jobcompanyname=\"Avialdo Solutions\" data-indeed-apply-jobid=\"e228873cc43fabfb39b5\" data-indeed-apply-joblocation=\"Karachi\" data-indeed-apply-jobmeta=\"{&amp;quot;vtk&amp;quot;:&amp;quot;1h3iftot1jtuk800&amp;quot;,&amp;quot;tk&amp;quot;:&amp;quot;1h3iaul7ng3no800&amp;quot;}\" data-indeed-apply-jobtitle=\"Frontend Developer MT\" data-indeed-apply-joburl=\"https://pk.indeed.com/viewjob?jk=3de2311962e93f75\" data-indeed-apply-nobuttonui=\"true\" data-indeed-apply-onapplied=\"indeedApplyHandleApply\" data-indeed-apply-onappliedstatus=\"_updateIndeedApplyStatus\" data-indeed-apply-onclick=\"indeedApplyHandleButtonClick\" data-indeed-apply-onclose=\"indeedApplyHandleModalClose\" data-indeed-apply-oncontinueclick=\"indeedApplyHandleModalClose\" data-indeed-apply-onready=\"_onButtonReady\" data-indeed-apply-phone=\"optional\" data-indeed-apply-pingbackurl=\"https://gdc.indeed.com/conv/orgIndApp?co=PK&amp;vjtk=1h3iftot1jtuk800&amp;jk=3de2311962e93f75&amp;mvj=0&amp;tk=1h3iaul7ng3no800&amp;trk.origin=jobsearch&amp;vjfrom=vjs&amp;astse=bb6d0408d486ca5e&amp;assa=9697\" data-indeed-apply-posturl=\"http://muffit/process-indeedapply\" data-indeed-apply-questions=\"iq://e228873cc43fabfb39b5?v=1\" data-indeed-apply-recentsearchquery='{\"what\":\"frontend\",\"where\":\"karachi\"}' data-indeed-apply-resume=\"required\" id=\"indeed-apply-widget\">\n",
      "         <div class=\"jobsearch-IndeedApplyButton-buttonWrapper is-embedded\">\n",
      "          <button aria-label=\"Apply now opens in a new tab\" class=\"css-t8wchy e8ju0x51\" id=\"indeedApplyButton\">\n",
      "           <div class=\"jobsearch-IndeedApplyButton-contentWrapper\">\n",
      "            <span class=\"jobsearch-IndeedApplyButton-newDesign css-1hjxf1u eu4oa1w0\">\n",
      "             Apply now\n",
      "            </span>\n",
      "           </div>\n",
      "          </button>\n",
      "         </div>\n",
      "        </span>\n",
      "       </div>\n",
      "      </div>\n",
      "     </div>\n",
      "     <div aria-hidden=\"false\" class=\"icl-u-lg-inlineBlock\" data-loginurl=\"https://secure.indeed.com/account/login?co=PK&amp;hl=en_PK&amp;continue=http%3A%2F%2Fpk.indeed.com%2Fjobs%3Fq%3Dfrontend%26mGrp%3D-1%26from%3DsearchOnHP%26l%3Dkarachi&amp;from=jsfe-desktopembedded-save-indeedmobile\" id=\"saveJobButtonContainer\">\n",
      "      <div class=\"\">\n",
      "       <div aria-live=\"assertive\">\n",
      "        <button aria-haspopup=\"true\" aria-label=\"Save this job\" class=\"css-166k7et e8ju0x51\" data-dd-action-name=\"save-job\">\n",
      "         <svg class=\"css-1xqhio eac13zx0\" fill=\"currentColor\" focusable=\"false\" role=\"img\" viewbox=\"0 0 24 24\" xmlns=\"http://www.w3.org/2000/svg\">\n",
      "          <title>\n",
      "           save-icon\n",
      "          </title>\n",
      "          <path clip-rule=\"evenodd\" d=\"M12 14.616l6 3.905V4H6v14.52l6-3.905zM4.383 21.96A.25.25 0 014 21.748V2.502a.5.5 0 01.5-.5h15a.5.5 0 01.5.5v19.246a.25.25 0 01-.383.212L12 17.002 4.383 21.96z\" fill-rule=\"evenodd\">\n",
      "          </path>\n",
      "         </svg>\n",
      "        </button>\n",
      "       </div>\n",
      "      </div>\n",
      "     </div>\n",
      "     <div class=\"mosaic mosaic-empty-zone\" id=\"belowViewjobButtons\">\n",
      "     </div>\n",
      "    </div>\n",
      "   </div>\n",
      "  </div>\n",
      " </div>\n",
      "</div>\n",
      "<div class=\"jobsearch-embeddedBody css-1omm75o eu4oa1w0\" tabindex=\"-1\">\n",
      " <div class=\"jobsearch-BodyContainer\">\n",
      "  <div>\n",
      "  </div>\n",
      "  <div class=\"jobsearch-JobComponent-description css-kyg8or eu4oa1w0\" tabindex=\"0\">\n",
      "   <div class=\"mosaic mosaic-empty-zone\" id=\"aboveFullJobDescription\">\n",
      "   </div>\n",
      "   <div class=\"mosaic mosaic-empty-zone\" id=\"aboveExtractedJobDescription\">\n",
      "   </div>\n",
      "   <div class=\"css-804pn3 eu4oa1w0\" id=\"jobDetailsSection\">\n",
      "    <div class=\"jobsearch-JobDescriptionSection-title css-4m8ia3 eu4oa1w0\">\n",
      "     <h2 class=\"css-ji0ia1 e1tiznh50\" id=\"jobDetails\" tabindex=\"-1\">\n",
      "      Job details\n",
      "     </h2>\n",
      "     <div class=\"css-7c0b8 eu4oa1w0\">\n",
      "      <span>\n",
      "       No matching\n",
      "       <a aria-label=\"job preferences (opens in a new window)\" class=\"css-6pji5a emf9s7v0\" href=\"https://profile.indeed.com/preferences\" rel=\"noopener\" target=\"_blank\">\n",
      "        job preferences\n",
      "        <svg aria-hidden=\"true\" class=\"css-r5jz5s eac13zx0\" fill=\"currentColor\" focusable=\"false\" role=\"img\" viewbox=\"0 0 24 24\" xmlns=\"http://www.w3.org/2000/svg\">\n",
      "         <path d=\"M14.504 3a.5.5 0 00-.5.5v1a.5.5 0 00.5.5h3.085l-9.594 9.594a.5.5 0 000 .707l.707.708a.5.5 0 00.707 0l9.594-9.595V9.5a.5.5 0 00.5.5h1a.5.5 0 00.5-.5v-6a.5.5 0 00-.5-.5h-6z\">\n",
      "         </path>\n",
      "         <path d=\"M5 3.002a2 2 0 00-2 2v13.996a2 2 0 001.996 2.004h14a2 2 0 002-2v-6.5a.5.5 0 00-.5-.5h-1a.5.5 0 00-.5.5v6.5L5 18.998V5.002L11.5 5a.495.495 0 00.496-.498v-1a.5.5 0 00-.5-.5H5z\">\n",
      "         </path>\n",
      "        </svg>\n",
      "       </a>\n",
      "      </span>\n",
      "     </div>\n",
      "    </div>\n",
      "    <div class=\"css-4m8ia3 eu4oa1w0\">\n",
      "     <div class=\"css-fhkva6 eu4oa1w0\">\n",
      "      <svg aria-hidden=\"true\" class=\"css-r72e78 eac13zx0\" fill=\"currentColor\" focusable=\"false\" role=\"img\" viewbox=\"0 0 24 24\" xmlns=\"http://www.w3.org/2000/svg\">\n",
      "       <path clip-rule=\"evenodd\" d=\"M7.5 3a.5.5 0 00-.5.5V7H2.5a.5.5 0 00-.5.5V11h20V7.5a.5.5 0 00-.5-.5H17V3.5a.5.5 0 00-.5-.5h-9zM15 7H9V5h6v2z\">\n",
      "       </path>\n",
      "       <path d=\"M10 13H2v7.5a.5.5 0 00.5.5h19a.5.5 0 00.5-.5V13h-8v1.51a.5.5 0 01-.5.5h-3a.5.5 0 01-.5-.5V13z\">\n",
      "       </path>\n",
      "      </svg>\n",
      "      Job Type\n",
      "     </div>\n",
      "     <div class=\"css-1hplm3f eu4oa1w0\">\n",
      "      <div class=\"css-m539th eu4oa1w0\">\n",
      "       <div class=\"css-1p3gyjy e1xnxm2i0\">\n",
      "        <div class=\"css-g6kqeb ecydgvn0\">\n",
      "         <div class=\"css-tvvxwd ecydgvn1\">\n",
      "          Full-time\n",
      "         </div>\n",
      "        </div>\n",
      "       </div>\n",
      "      </div>\n",
      "     </div>\n",
      "    </div>\n",
      "   </div>\n",
      "   <div class=\"jobsearch-jobDescriptionText jobsearch-JobComponent-description\" id=\"jobDescriptionText\">\n",
      "    <p>\n",
      "     A junior front-end developer MT will be responsible for developing and maintaining the visual elements of a website or application. This includes designing and implementing user interfaces, ensuring that the website is visually appealing and easy to navigate, and ensuring that the website is responsive across different devices.\n",
      "    </p>\n",
      "    <p>\n",
      "     <b>\n",
      "      Responsibilities\n",
      "     </b>\n",
      "    </p>\n",
      "    <ul>\n",
      "     <li>\n",
      "      Develop and maintain the user interface for our machine translation system.\n",
      "     </li>\n",
      "     <li>\n",
      "      Collaborate with backend developers to integrate frontend components.\n",
      "     </li>\n",
      "     <li>\n",
      "      Create responsive designs using HTML, CSS, and Bootstrap.\n",
      "     </li>\n",
      "     <li>\n",
      "      Write efficient code using JavaScript and jQuery.\n",
      "     </li>\n",
      "     <li>\n",
      "      Test and fix frontend issues.\n",
      "     </li>\n",
      "    </ul>\n",
      "    <p>\n",
      "     <b>\n",
      "      Qualifications\n",
      "     </b>\n",
      "    </p>\n",
      "    <ul>\n",
      "     <li>\n",
      "      Bachelor's degree in Computer Science or related field.\n",
      "     </li>\n",
      "     <li>\n",
      "      Strong proficiency in HTML, CSS, Bootstrap, JS, and jQuery.\n",
      "     </li>\n",
      "     <li>\n",
      "      Experience with version control systems (e.g., Git).\n",
      "     </li>\n",
      "     <li>\n",
      "      Strong problem-solving skills and attention to detail.\n",
      "     </li>\n",
      "     <li>\n",
      "      Excellent communication and teamwork abilities.\n",
      "     </li>\n",
      "     <li>\n",
      "      Familiarity with machine translation technologies is a plus.\n",
      "     </li>\n",
      "    </ul>\n",
      "    <p>\n",
      "     <b>\n",
      "      Benefits\n",
      "     </b>\n",
      "    </p>\n",
      "    <ul>\n",
      "     <li>\n",
      "      Office timings are 8AM - 5PM (Punctuality bonus)\n",
      "     </li>\n",
      "     <li>\n",
      "      Lunch and meals provided by the office\n",
      "     </li>\n",
      "     <li>\n",
      "      Performance-based bonuses\n",
      "     </li>\n",
      "    </ul>\n",
      "    <p>\n",
      "     <b>\n",
      "      Stipend:\n",
      "     </b>\n",
      "     20,000pkr plus Attendance bonus\n",
      "    </p>\n",
      "    <p>\n",
      "     <b>\n",
      "      Availability\n",
      "     </b>\n",
      "    </p>\n",
      "    <ul>\n",
      "     <li>\n",
      "      Can join as soon as possible and make an effective mark in growing the team\n",
      "     </li>\n",
      "    </ul>\n",
      "    <p>\n",
      "     <b>\n",
      "      Location\n",
      "     </b>\n",
      "    </p>\n",
      "    <ul>\n",
      "     <li>\n",
      "      Karachi, Pakistan\n",
      "     </li>\n",
      "    </ul>\n",
      "    <p>\n",
      "     Job Type: Full-time\n",
      "    </p>\n",
      "    <p>\n",
      "     Ability to commute/relocate:\n",
      "    </p>\n",
      "    <ul>\n",
      "     <li>\n",
      "      Karachi: Reliably commute or planning to relocate before starting work (Required)\n",
      "     </li>\n",
      "    </ul>\n",
      "    <p>\n",
      "     Application Question(s):\n",
      "    </p>\n",
      "    <ul>\n",
      "     <li>\n",
      "      What is your current Salary?\n",
      "     </li>\n",
      "     <li>\n",
      "      What is your expected salary?\n",
      "     </li>\n",
      "    </ul>\n",
      "    <p>\n",
      "     Experience:\n",
      "    </p>\n",
      "    <ul>\n",
      "     <li>\n",
      "      Javascript &amp; Jquery: 1 year (Required)\n",
      "     </li>\n",
      "     <li>\n",
      "      HTML, CSS &amp; Bootstrap: 1 year (Required)\n",
      "     </li>\n",
      "    </ul>\n",
      "   </div>\n",
      "  </div>\n",
      "  <div class=\"mosaic mosaic-empty-zone\" id=\"belowFullJobDescription\">\n",
      "  </div>\n",
      "  <div class=\"jobsearch-JobMetadataFooter\">\n",
      "   <div class=\"mosaic mosaic-provider-reportcontent\" id=\"mosaic-provider-reportcontent\" style=\"--mosaic-placeholder-width: 730.4061889648438px; --mosaic-placeholder-height: 46.38749694824219px;\">\n",
      "   </div>\n",
      "  </div>\n",
      " </div>\n",
      "</div>\n"
     ]
    }
   ],
   "source": [
    "# page ka right side\n",
    "var_right_side = driver.find_element(\"xpath\",\"//div[@class = 'jobsearch-JobComponent icl-u-xs-mt--sm jobsearch-JobComponent--embedded css-axjo09 eu4oa1w0']\")\n",
    "#ab yaha sy user interction(kisi button py click karna etc etc) kahtam hun gaya just data scrape karna han so we need to use bs4. \n",
    "\n",
    "# bs4\n",
    "soup = BeautifulSoup(var_right_side.get_attribute('innerHTML'), 'html.parser')\n",
    "print(soup.prettify())\n",
    "\n",
    "\n"
   ]
  },
  {
   "attachments": {},
   "cell_type": "markdown",
   "metadata": {},
   "source": [
    "### left up portion (jis me job title,comapny name, location and apply karny ka button han)\n"
   ]
  },
  {
   "cell_type": "code",
   "execution_count": 98,
   "metadata": {},
   "outputs": [
    {
     "name": "stdout",
     "output_type": "stream",
     "text": [
      "<div class=\"jobsearch-InfoHeaderContainer\">\n",
      " <div>\n",
      "  <div class=\"jobsearch-JobInfoHeader-title-container\">\n",
      "   <h2 class=\"icl-u-xs-mb--xs icl-u-xs-mt--none jobsearch-JobInfoHeader-title is-embedded\" dir=\"ltr\" lang=\"en\">\n",
      "    <span>\n",
      "     Frontend Developer MT\n",
      "     <span class=\"css-1syol37 esbq1260\">\n",
      "      - job post\n",
      "     </span>\n",
      "    </span>\n",
      "   </h2>\n",
      "  </div>\n",
      "  <div class=\"jobsearch-CompanyInfoContainer\">\n",
      "   <div class=\"jobsearch-CompanyInfoWithoutHeaderImage\">\n",
      "    <div>\n",
      "     <div class=\"css-1qz04qx eu4oa1w0\">\n",
      "      <div class=\"css-1h46us2 eu4oa1w0\">\n",
      "       <div class=\"css-1cjkto6 eu4oa1w0\" data-company-name=\"true\">\n",
      "        <a href=\"https://pk.indeed.com/cmp/Avialdo-Solutions?campaignid=mobvjcmp&amp;from=mobviewjob&amp;tk=1h3iftot1jtuk800&amp;fromjk=3de2311962e93f75\" target=\"_blank\">\n",
      "         Avialdo Solutions\n",
      "        </a>\n",
      "       </div>\n",
      "      </div>\n",
      "      <div class=\"css-6z8o9s eu4oa1w0\">\n",
      "       <div>\n",
      "        Karachi\n",
      "       </div>\n",
      "      </div>\n",
      "      <div class=\"css-6z8o9s eu4oa1w0\">\n",
      "      </div>\n",
      "     </div>\n",
      "    </div>\n",
      "   </div>\n",
      "  </div>\n",
      " </div>\n",
      " <div class=\"css-kyg8or eu4oa1w0\">\n",
      "  <div>\n",
      "  </div>\n",
      " </div>\n",
      " <div class=\"icl-Grid icl-Grid--gutters\">\n",
      "  <div class=\"jobsearch-ViewJobButtons-container is-embedded icl-Grid-col icl-u-xs-span12 css-188irao eu4oa1w0\" id=\"jobsearch-ViewJobButtons-container\">\n",
      "   <div class=\"mosaic mosaic-empty-zone\" id=\"aboveViewjobButtons\">\n",
      "   </div>\n",
      "   <div class=\"jobsearch-ButtonContainer-inlineBlock icl-u-lg-inlineBlock css-kyg8or eu4oa1w0\">\n",
      "    <div class=\"jobsearch-IndeedApplyButton css-1ljcmzr eu4oa1w0\">\n",
      "     <div class=\"ia-IndeedApplyButton\">\n",
      "      <span class=\"indeed-apply-widget indeed-apply-button-container indeed-apply-status-not-applied\" data-indeed-apply-advnum=\"3936756211886046\" data-indeed-apply-apitoken=\"aa102235a5ccb18bd3668c0e14aa3ea7e2503cfac2a7a9bf3d6549899e125af4\" data-indeed-apply-coverletter=\"optional\" data-indeed-apply-jk=\"3de2311962e93f75\" data-indeed-apply-jobcompanyname=\"Avialdo Solutions\" data-indeed-apply-jobid=\"e228873cc43fabfb39b5\" data-indeed-apply-joblocation=\"Karachi\" data-indeed-apply-jobmeta=\"{&amp;quot;vtk&amp;quot;:&amp;quot;1h3iftot1jtuk800&amp;quot;,&amp;quot;tk&amp;quot;:&amp;quot;1h3iaul7ng3no800&amp;quot;}\" data-indeed-apply-jobtitle=\"Frontend Developer MT\" data-indeed-apply-joburl=\"https://pk.indeed.com/viewjob?jk=3de2311962e93f75\" data-indeed-apply-nobuttonui=\"true\" data-indeed-apply-onapplied=\"indeedApplyHandleApply\" data-indeed-apply-onappliedstatus=\"_updateIndeedApplyStatus\" data-indeed-apply-onclick=\"indeedApplyHandleButtonClick\" data-indeed-apply-onclose=\"indeedApplyHandleModalClose\" data-indeed-apply-oncontinueclick=\"indeedApplyHandleModalClose\" data-indeed-apply-onready=\"_onButtonReady\" data-indeed-apply-phone=\"optional\" data-indeed-apply-pingbackurl=\"https://gdc.indeed.com/conv/orgIndApp?co=PK&amp;vjtk=1h3iftot1jtuk800&amp;jk=3de2311962e93f75&amp;mvj=0&amp;tk=1h3iaul7ng3no800&amp;trk.origin=jobsearch&amp;vjfrom=vjs&amp;astse=bb6d0408d486ca5e&amp;assa=9697\" data-indeed-apply-posturl=\"http://muffit/process-indeedapply\" data-indeed-apply-questions=\"iq://e228873cc43fabfb39b5?v=1\" data-indeed-apply-recentsearchquery='{\"what\":\"frontend\",\"where\":\"karachi\"}' data-indeed-apply-resume=\"required\" id=\"indeed-apply-widget\">\n",
      "       <div class=\"jobsearch-IndeedApplyButton-buttonWrapper is-embedded\">\n",
      "        <button aria-label=\"Apply now opens in a new tab\" class=\"css-t8wchy e8ju0x51\" id=\"indeedApplyButton\">\n",
      "         <div class=\"jobsearch-IndeedApplyButton-contentWrapper\">\n",
      "          <span class=\"jobsearch-IndeedApplyButton-newDesign css-1hjxf1u eu4oa1w0\">\n",
      "           Apply now\n",
      "          </span>\n",
      "         </div>\n",
      "        </button>\n",
      "       </div>\n",
      "      </span>\n",
      "     </div>\n",
      "    </div>\n",
      "   </div>\n",
      "   <div aria-hidden=\"false\" class=\"icl-u-lg-inlineBlock\" data-loginurl=\"https://secure.indeed.com/account/login?co=PK&amp;hl=en_PK&amp;continue=http%3A%2F%2Fpk.indeed.com%2Fjobs%3Fq%3Dfrontend%26mGrp%3D-1%26from%3DsearchOnHP%26l%3Dkarachi&amp;from=jsfe-desktopembedded-save-indeedmobile\" id=\"saveJobButtonContainer\">\n",
      "    <div class=\"\">\n",
      "     <div aria-live=\"assertive\">\n",
      "      <button aria-haspopup=\"true\" aria-label=\"Save this job\" class=\"css-166k7et e8ju0x51\" data-dd-action-name=\"save-job\">\n",
      "       <svg class=\"css-1xqhio eac13zx0\" fill=\"currentColor\" focusable=\"false\" role=\"img\" viewbox=\"0 0 24 24\" xmlns=\"http://www.w3.org/2000/svg\">\n",
      "        <title>\n",
      "         save-icon\n",
      "        </title>\n",
      "        <path clip-rule=\"evenodd\" d=\"M12 14.616l6 3.905V4H6v14.52l6-3.905zM4.383 21.96A.25.25 0 014 21.748V2.502a.5.5 0 01.5-.5h15a.5.5 0 01.5.5v19.246a.25.25 0 01-.383.212L12 17.002 4.383 21.96z\" fill-rule=\"evenodd\">\n",
      "        </path>\n",
      "       </svg>\n",
      "      </button>\n",
      "     </div>\n",
      "    </div>\n",
      "   </div>\n",
      "   <div class=\"mosaic mosaic-empty-zone\" id=\"belowViewjobButtons\">\n",
      "   </div>\n",
      "  </div>\n",
      " </div>\n",
      "</div>\n"
     ]
    }
   ],
   "source": [
    "print(soup.find('div',class_=\"jobsearch-InfoHeaderContainer\").prettify())\n",
    "# text"
   ]
  },
  {
   "cell_type": "code",
   "execution_count": 120,
   "metadata": {},
   "outputs": [
    {
     "data": {
      "text/plain": [
       "'Frontend Developer MT'"
      ]
     },
     "execution_count": 120,
     "metadata": {},
     "output_type": "execute_result"
    }
   ],
   "source": [
    "# job title\n",
    "job_title = soup.find('h2',class_='icl-u-xs-mb--xs icl-u-xs-mt--none jobsearch-JobInfoHeader-title is-embedded').text.replace(\" - job post\",\"\")\n",
    "job_title"
   ]
  },
  {
   "cell_type": "code",
   "execution_count": 100,
   "metadata": {},
   "outputs": [
    {
     "data": {
      "text/plain": [
       "'Avialdo Solutions'"
      ]
     },
     "execution_count": 100,
     "metadata": {},
     "output_type": "execute_result"
    }
   ],
   "source": [
    "# comapny name\n",
    "company_name = soup.find(\"div\",class_=\"css-1h46us2 eu4oa1w0\").text #comapny name\n",
    "company_name"
   ]
  },
  {
   "cell_type": "code",
   "execution_count": 101,
   "metadata": {},
   "outputs": [
    {
     "data": {
      "text/plain": [
       "'Karachi'"
      ]
     },
     "execution_count": 101,
     "metadata": {},
     "output_type": "execute_result"
    }
   ],
   "source": [
    "# location\n",
    "location = soup.find(\"div\",class_=\"css-6z8o9s eu4oa1w0\").text #location\n",
    "location\n"
   ]
  },
  {
   "cell_type": "code",
   "execution_count": 102,
   "metadata": {},
   "outputs": [
    {
     "data": {
      "text/plain": [
       "[<div class=\"css-6z8o9s eu4oa1w0\"><div>Karachi</div></div>,\n",
       " <div class=\"css-6z8o9s eu4oa1w0\"></div>]"
      ]
     },
     "execution_count": 102,
     "metadata": {},
     "output_type": "execute_result"
    }
   ],
   "source": [
    "# nechy waly code me 2 divs aa rahy. may be contry ka hun. lakin abhi pata nahi q future me kaam aa skta\n",
    "soup.find_all(\"div\",class_=\"css-6z8o9s eu4oa1w0\")\n",
    "# .text #location\n"
   ]
  },
  {
   "attachments": {},
   "cell_type": "markdown",
   "metadata": {},
   "source": [
    "### left down portion (jis me job description wagera han)\n"
   ]
  },
  {
   "cell_type": "code",
   "execution_count": 103,
   "metadata": {},
   "outputs": [
    {
     "data": {
      "text/plain": [
       "<div class=\"jobsearch-embeddedBody css-1omm75o eu4oa1w0\" tabindex=\"-1\"><div class=\"jobsearch-BodyContainer\"><div></div><div class=\"jobsearch-JobComponent-description css-kyg8or eu4oa1w0\" tabindex=\"0\"><div class=\"mosaic mosaic-empty-zone\" id=\"aboveFullJobDescription\"></div><div class=\"mosaic mosaic-empty-zone\" id=\"aboveExtractedJobDescription\"></div><div class=\"css-804pn3 eu4oa1w0\" id=\"jobDetailsSection\"><div class=\"jobsearch-JobDescriptionSection-title css-4m8ia3 eu4oa1w0\"><h2 class=\"css-ji0ia1 e1tiznh50\" id=\"jobDetails\" tabindex=\"-1\">Job details</h2><div class=\"css-7c0b8 eu4oa1w0\"><span>No matching <a aria-label=\"job preferences (opens in a new window)\" class=\"css-6pji5a emf9s7v0\" href=\"https://profile.indeed.com/preferences\" rel=\"noopener\" target=\"_blank\">job preferences<svg aria-hidden=\"true\" class=\"css-r5jz5s eac13zx0\" fill=\"currentColor\" focusable=\"false\" role=\"img\" viewbox=\"0 0 24 24\" xmlns=\"http://www.w3.org/2000/svg\"><path d=\"M14.504 3a.5.5 0 00-.5.5v1a.5.5 0 00.5.5h3.085l-9.594 9.594a.5.5 0 000 .707l.707.708a.5.5 0 00.707 0l9.594-9.595V9.5a.5.5 0 00.5.5h1a.5.5 0 00.5-.5v-6a.5.5 0 00-.5-.5h-6z\"></path><path d=\"M5 3.002a2 2 0 00-2 2v13.996a2 2 0 001.996 2.004h14a2 2 0 002-2v-6.5a.5.5 0 00-.5-.5h-1a.5.5 0 00-.5.5v6.5L5 18.998V5.002L11.5 5a.495.495 0 00.496-.498v-1a.5.5 0 00-.5-.5H5z\"></path></svg></a></span></div></div><div class=\"css-4m8ia3 eu4oa1w0\"><div class=\"css-fhkva6 eu4oa1w0\"><svg aria-hidden=\"true\" class=\"css-r72e78 eac13zx0\" fill=\"currentColor\" focusable=\"false\" role=\"img\" viewbox=\"0 0 24 24\" xmlns=\"http://www.w3.org/2000/svg\"><path clip-rule=\"evenodd\" d=\"M7.5 3a.5.5 0 00-.5.5V7H2.5a.5.5 0 00-.5.5V11h20V7.5a.5.5 0 00-.5-.5H17V3.5a.5.5 0 00-.5-.5h-9zM15 7H9V5h6v2z\"></path><path d=\"M10 13H2v7.5a.5.5 0 00.5.5h19a.5.5 0 00.5-.5V13h-8v1.51a.5.5 0 01-.5.5h-3a.5.5 0 01-.5-.5V13z\"></path></svg>Job Type</div><div class=\"css-1hplm3f eu4oa1w0\"><div class=\"css-m539th eu4oa1w0\"><div class=\"css-1p3gyjy e1xnxm2i0\"><div class=\"css-g6kqeb ecydgvn0\"><div class=\"css-tvvxwd ecydgvn1\">Full-time</div></div></div></div></div></div></div><div class=\"jobsearch-jobDescriptionText jobsearch-JobComponent-description\" id=\"jobDescriptionText\"><p>A junior front-end developer MT will be responsible for developing and maintaining the visual elements of a website or application. This includes designing and implementing user interfaces, ensuring that the website is visually appealing and easy to navigate, and ensuring that the website is responsive across different devices.</p>\n",
       "<p><b>Responsibilities</b></p>\n",
       "<ul>\n",
       "<li>Develop and maintain the user interface for our machine translation system.</li>\n",
       "<li>Collaborate with backend developers to integrate frontend components.</li>\n",
       "<li>Create responsive designs using HTML, CSS, and Bootstrap.</li>\n",
       "<li>Write efficient code using JavaScript and jQuery.</li>\n",
       "<li>Test and fix frontend issues.</li>\n",
       "</ul>\n",
       "<p><b>Qualifications</b></p>\n",
       "<ul>\n",
       "<li>Bachelor's degree in Computer Science or related field.</li>\n",
       "<li>Strong proficiency in HTML, CSS, Bootstrap, JS, and jQuery.</li>\n",
       "<li>Experience with version control systems (e.g., Git).</li>\n",
       "<li>Strong problem-solving skills and attention to detail.</li>\n",
       "<li>Excellent communication and teamwork abilities.</li>\n",
       "<li>Familiarity with machine translation technologies is a plus.</li>\n",
       "</ul>\n",
       "<p><b>Benefits</b></p>\n",
       "<ul>\n",
       "<li>Office timings are 8AM - 5PM (Punctuality bonus)</li>\n",
       "<li>Lunch and meals provided by the office</li>\n",
       "<li>Performance-based bonuses</li>\n",
       "</ul>\n",
       "<p><b>Stipend:</b> 20,000pkr plus Attendance bonus</p>\n",
       "<p><b>Availability</b></p>\n",
       "<ul>\n",
       "<li>Can join as soon as possible and make an effective mark in growing the team</li>\n",
       "</ul>\n",
       "<p><b>Location</b></p>\n",
       "<ul>\n",
       "<li>Karachi, Pakistan</li>\n",
       "</ul>\n",
       "<p>Job Type: Full-time</p>\n",
       "<p>Ability to commute/relocate:</p>\n",
       "<ul>\n",
       "<li>Karachi: Reliably commute or planning to relocate before starting work (Required)</li>\n",
       "</ul>\n",
       "<p>Application Question(s):</p>\n",
       "<ul>\n",
       "<li>What is your current Salary?</li>\n",
       "<li>What is your expected salary?</li>\n",
       "</ul>\n",
       "<p>Experience:</p>\n",
       "<ul>\n",
       "<li>Javascript &amp; Jquery: 1 year (Required)</li>\n",
       "<li>HTML, CSS &amp; Bootstrap: 1 year (Required)</li>\n",
       "</ul></div></div><div class=\"mosaic mosaic-empty-zone\" id=\"belowFullJobDescription\"></div><div class=\"jobsearch-JobMetadataFooter\"><div class=\"mosaic mosaic-provider-reportcontent\" id=\"mosaic-provider-reportcontent\" style=\"--mosaic-placeholder-width: 730.4061889648438px; --mosaic-placeholder-height: 46.38749694824219px;\"></div></div></div></div>"
      ]
     },
     "execution_count": 103,
     "metadata": {},
     "output_type": "execute_result"
    }
   ],
   "source": [
    "var_soup_job_des = soup.find(\"div\",class_='jobsearch-embeddedBody css-1omm75o eu4oa1w0')\n",
    "\n",
    "var_soup_job_des"
   ]
  },
  {
   "cell_type": "code",
   "execution_count": 104,
   "metadata": {},
   "outputs": [
    {
     "data": {
      "text/plain": [
       "'Full-time'"
      ]
     },
     "execution_count": 104,
     "metadata": {},
     "output_type": "execute_result"
    }
   ],
   "source": [
    "# job type\n",
    "job_type = var_soup_job_des.find(\"div\",class_=\"css-tvvxwd ecydgvn1\").text\n",
    "job_type\n"
   ]
  },
  {
   "cell_type": "code",
   "execution_count": 105,
   "metadata": {},
   "outputs": [
    {
     "data": {
      "text/plain": [
       "\"A junior front-end developer MT will be responsible for developing and maintaining the visual elements of a website or application. This includes designing and implementing user interfaces, ensuring that the website is visually appealing and easy to navigate, and ensuring that the website is responsive across different devices.\\nResponsibilities\\n\\nDevelop and maintain the user interface for our machine translation system.\\nCollaborate with backend developers to integrate frontend components.\\nCreate responsive designs using HTML, CSS, and Bootstrap.\\nWrite efficient code using JavaScript and jQuery.\\nTest and fix frontend issues.\\n\\nQualifications\\n\\nBachelor's degree in Computer Science or related field.\\nStrong proficiency in HTML, CSS, Bootstrap, JS, and jQuery.\\nExperience with version control systems (e.g., Git).\\nStrong problem-solving skills and attention to detail.\\nExcellent communication and teamwork abilities.\\nFamiliarity with machine translation technologies is a plus.\\n\\nBenefits\\n\\nOffice timings are 8AM - 5PM (Punctuality bonus)\\nLunch and meals provided by the office\\nPerformance-based bonuses\\n\\nStipend: 20,000pkr plus Attendance bonus\\nAvailability\\n\\nCan join as soon as possible and make an effective mark in growing the team\\n\\nLocation\\n\\nKarachi, Pakistan\\n\\nJob Type: Full-time\\nAbility to commute/relocate:\\n\\nKarachi: Reliably commute or planning to relocate before starting work (Required)\\n\\nApplication Question(s):\\n\\nWhat is your current Salary?\\nWhat is your expected salary?\\n\\nExperience:\\n\\nJavascript & Jquery: 1 year (Required)\\nHTML, CSS & Bootstrap: 1 year (Required)\\n\""
      ]
     },
     "execution_count": 105,
     "metadata": {},
     "output_type": "execute_result"
    }
   ],
   "source": [
    "# jobDescriptionText\n",
    "description = var_soup_job_des.find(\"div\",id=\"jobDescriptionText\").text\n",
    "# save in text file\n",
    "with open(\"jobDescriptionText.txt\",\"w\",encoding=\"utf-8\") as f:\n",
    "    f.write(var_soup_job_des.find(\"div\",id=\"jobDescriptionText\").text)\n",
    "    f.close()\n",
    "description"
   ]
  },
  {
   "cell_type": "code",
   "execution_count": 106,
   "metadata": {},
   "outputs": [
    {
     "data": {
      "text/plain": [
       "'https://pk.indeed.com/jobs?q=frontend&l=karachi&from=searchOnHP&vjk=3de2311962e93f75'"
      ]
     },
     "execution_count": 106,
     "metadata": {},
     "output_type": "execute_result"
    }
   ],
   "source": [
    "# getting link\n",
    "job_link = driver.current_url\n",
    "job_link"
   ]
  },
  {
   "cell_type": "code",
   "execution_count": 114,
   "metadata": {},
   "outputs": [
    {
     "data": {
      "text/plain": [
       "{'job_title': '',\n",
       " 'company_name': '',\n",
       " 'location': '',\n",
       " 'salary_range': '',\n",
       " 'job_type': '',\n",
       " 'description': '',\n",
       " 'job_link': '',\n",
       " 'indeedApply': '',\n",
       " 'hiringMultipleCandidates': ''}"
      ]
     },
     "execution_count": 114,
     "metadata": {},
     "output_type": "execute_result"
    }
   ],
   "source": [
    "\n",
    "# making an empty dictionary on above listt\n",
    "var_dict = {i:'' for i in var_csv_cols}\n",
    "var_dict"
   ]
  },
  {
   "cell_type": "code",
   "execution_count": 116,
   "metadata": {},
   "outputs": [
    {
     "data": {
      "text/plain": [
       "{'job_title': '',\n",
       " 'company_name': '',\n",
       " 'location': '',\n",
       " 'salary_range': '',\n",
       " 'job_type': '',\n",
       " 'description': '',\n",
       " 'job_link': '',\n",
       " 'indeedApply': 1,\n",
       " 'hiringMultipleCandidates': 1}"
      ]
     },
     "execution_count": 116,
     "metadata": {},
     "output_type": "execute_result"
    }
   ],
   "source": [
    "# if next_words have any of var_dict keys than put 1 of each keys values in var_dic\n",
    "for i in next_words:\n",
    "    if i in var_dict.keys():\n",
    "        var_dict[i] = 1\n",
    "    else:\n",
    "        var_dict[i] = 0\n",
    "\n",
    "var_dict"
   ]
  },
  {
   "cell_type": "code",
   "execution_count": 117,
   "metadata": {},
   "outputs": [
    {
     "name": "stdout",
     "output_type": "stream",
     "text": [
      "{'job_title': 'Frontend Developer MT - job post', 'company_name': 'Avialdo Solutions', 'location': 'Karachi', 'salary_range': '', 'job_type': 'Full-time', 'description': \"A junior front-end developer MT will be responsible for developing and maintaining the visual elements of a website or application. This includes designing and implementing user interfaces, ensuring that the website is visually appealing and easy to navigate, and ensuring that the website is responsive across different devices.\\nResponsibilities\\n\\nDevelop and maintain the user interface for our machine translation system.\\nCollaborate with backend developers to integrate frontend components.\\nCreate responsive designs using HTML, CSS, and Bootstrap.\\nWrite efficient code using JavaScript and jQuery.\\nTest and fix frontend issues.\\n\\nQualifications\\n\\nBachelor's degree in Computer Science or related field.\\nStrong proficiency in HTML, CSS, Bootstrap, JS, and jQuery.\\nExperience with version control systems (e.g., Git).\\nStrong problem-solving skills and attention to detail.\\nExcellent communication and teamwork abilities.\\nFamiliarity with machine translation technologies is a plus.\\n\\nBenefits\\n\\nOffice timings are 8AM - 5PM (Punctuality bonus)\\nLunch and meals provided by the office\\nPerformance-based bonuses\\n\\nStipend: 20,000pkr plus Attendance bonus\\nAvailability\\n\\nCan join as soon as possible and make an effective mark in growing the team\\n\\nLocation\\n\\nKarachi, Pakistan\\n\\nJob Type: Full-time\\nAbility to commute/relocate:\\n\\nKarachi: Reliably commute or planning to relocate before starting work (Required)\\n\\nApplication Question(s):\\n\\nWhat is your current Salary?\\nWhat is your expected salary?\\n\\nExperience:\\n\\nJavascript & Jquery: 1 year (Required)\\nHTML, CSS & Bootstrap: 1 year (Required)\\n\", 'job_link': 'https://pk.indeed.com/jobs?q=frontend&l=karachi&from=searchOnHP&vjk=3de2311962e93f75', 'indeedApply': 1, 'hiringMultipleCandidates': 1}\n"
     ]
    }
   ],
   "source": [
    "var_dict[\"job_title\"] =job_title\n",
    "var_dict[\"company_name\"] =company_name\n",
    "var_dict[\"location\"] =location\n",
    "var_dict[\"job_type\"] =job_type\n",
    "var_dict[\"description\"] =description\n",
    "var_dict[\"job_link\"] =job_link\n",
    "print(var_dict)\n"
   ]
  },
  {
   "cell_type": "code",
   "execution_count": 118,
   "metadata": {},
   "outputs": [
    {
     "data": {
      "text/html": [
       "<div>\n",
       "<style scoped>\n",
       "    .dataframe tbody tr th:only-of-type {\n",
       "        vertical-align: middle;\n",
       "    }\n",
       "\n",
       "    .dataframe tbody tr th {\n",
       "        vertical-align: top;\n",
       "    }\n",
       "\n",
       "    .dataframe thead th {\n",
       "        text-align: right;\n",
       "    }\n",
       "</style>\n",
       "<table border=\"1\" class=\"dataframe\">\n",
       "  <thead>\n",
       "    <tr style=\"text-align: right;\">\n",
       "      <th></th>\n",
       "      <th>job_title</th>\n",
       "      <th>company_name</th>\n",
       "      <th>location</th>\n",
       "      <th>salary_range</th>\n",
       "      <th>job_type</th>\n",
       "      <th>description</th>\n",
       "      <th>job_link</th>\n",
       "      <th>indeedApply</th>\n",
       "      <th>hiringMultipleCandidates</th>\n",
       "    </tr>\n",
       "  </thead>\n",
       "  <tbody>\n",
       "    <tr>\n",
       "      <th>0</th>\n",
       "      <td>Frontend Developer MT - job post</td>\n",
       "      <td>Avialdo Solutions</td>\n",
       "      <td>Karachi</td>\n",
       "      <td></td>\n",
       "      <td>Full-time</td>\n",
       "      <td>A junior front-end developer MT will be respon...</td>\n",
       "      <td>https://pk.indeed.com/jobs?q=frontend&amp;l=karach...</td>\n",
       "      <td>1</td>\n",
       "      <td>1</td>\n",
       "    </tr>\n",
       "  </tbody>\n",
       "</table>\n",
       "</div>"
      ],
      "text/plain": [
       "                          job_title       company_name location salary_range  \\\n",
       "0  Frontend Developer MT - job post  Avialdo Solutions  Karachi                \n",
       "\n",
       "    job_type                                        description  \\\n",
       "0  Full-time  A junior front-end developer MT will be respon...   \n",
       "\n",
       "                                            job_link indeedApply  \\\n",
       "0  https://pk.indeed.com/jobs?q=frontend&l=karach...           1   \n",
       "\n",
       "  hiringMultipleCandidates  \n",
       "0                        1  "
      ]
     },
     "execution_count": 118,
     "metadata": {},
     "output_type": "execute_result"
    }
   ],
   "source": [
    "# adding var_dict to df\n",
    "df = df.append(var_dict,ignore_index=True)\n",
    "df"
   ]
  },
  {
   "cell_type": "code",
   "execution_count": null,
   "metadata": {},
   "outputs": [],
   "source": []
  }
 ],
 "metadata": {
  "kernelspec": {
   "display_name": "base",
   "language": "python",
   "name": "python3"
  },
  "language_info": {
   "codemirror_mode": {
    "name": "ipython",
    "version": 3
   },
   "file_extension": ".py",
   "mimetype": "text/x-python",
   "name": "python",
   "nbconvert_exporter": "python",
   "pygments_lexer": "ipython3",
   "version": "3.9.13"
  },
  "orig_nbformat": 4
 },
 "nbformat": 4,
 "nbformat_minor": 2
}
