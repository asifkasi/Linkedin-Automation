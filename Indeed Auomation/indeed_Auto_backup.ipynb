{
 "cells": [
  {
   "cell_type": "code",
   "execution_count": 1,
   "metadata": {},
   "outputs": [],
   "source": [
    "# Import libraries\n",
    "import requests\n",
    "from bs4 import BeautifulSoup\n",
    "import pandas as pd\n",
    "import re\n",
    "import os\n",
    "import glob\n",
    "import warnings \n",
    "warnings.filterwarnings('ignore')\n",
    "import time\n",
    "from selenium import webdriver\n",
    "from webdriver_manager.chrome import ChromeDriverManager\n",
    "from selenium.webdriver.common.action_chains import ActionChains\n",
    "options = webdriver.ChromeOptions()\n",
    "# options.add_argument(r\"C:\\Users\\Asif-LFD\\AppData\\Local\\Google\\Chrome\\User Data\\Profile 1\")\n",
    "driver = webdriver.Chrome(ChromeDriverManager().install(),options=options)\n",
    "# from selenium import webdriver\n",
    "from selenium.webdriver.common.by import By\n",
    "import pytesseract\n",
    "# from PIL import Image\n",
    "# import io\n",
    "# import cv2\n",
    "# import pytesseract\n",
    "import numpy as np\n",
    "import re\n",
    "\n"
   ]
  },
  {
   "cell_type": "code",
   "execution_count": 2,
   "metadata": {},
   "outputs": [],
   "source": [
    "url = \"https://pk.indeed.com/\"\n",
    "driver.get(url)\n",
    "time.sleep(2)"
   ]
  },
  {
   "attachments": {},
   "cell_type": "markdown",
   "metadata": {},
   "source": [
    "# input keyword (input variable may be 1. job title 2. where) \n",
    "1. clear() kaam nahi kar rha dyk lyna bad me"
   ]
  },
  {
   "cell_type": "code",
   "execution_count": 3,
   "metadata": {},
   "outputs": [],
   "source": [
    "var_key_word_job = \"frontend\"\n",
    "var_key_word_where = \"karachi\"\n",
    "var_btn_keyword = driver.find_element(\"xpath\",\"/html/body/div/div[1]/div/span/div[3]/div[1]/div/div/div/div/form/div/div[1]/div/div[1]/div/div[2]/input\")\n",
    "var_btn_keyword.clear()\n",
    "var_btn_keyword.send_keys(var_key_word_job)\n",
    "time.sleep(2)\n",
    "\n",
    "var_btn_keyword = driver.find_element(\"xpath\",\"/html/body/div/div[1]/div/span/div[3]/div[1]/div/div/div/div/form/div/div[2]/div/div[1]/div/div[2]/input\")\n",
    "var_btn_keyword.clear()\n",
    "var_btn_keyword.send_keys(var_key_word_where)\n",
    "time.sleep(2)\n",
    "\n",
    "# click find jon button\n",
    "driver.find_element(\"xpath\",\"/html/body/div/div[1]/div/span/div[3]/div[1]/div/div/div/div/form/button\").click()\n"
   ]
  },
  {
   "cell_type": "code",
   "execution_count": 4,
   "metadata": {},
   "outputs": [
    {
     "name": "stdout",
     "output_type": "stream",
     "text": [
      "There are 130 jobs\n"
     ]
    }
   ],
   "source": [
    "print(\"There are \"+ driver.find_element(\"xpath\",\"/html/body/main/div/div[1]/div/div/div[5]/div[1]/div[4]/div/div/div[2]/span[1]\").text)"
   ]
  },
  {
   "attachments": {},
   "cell_type": "markdown",
   "metadata": {},
   "source": [
    "# left side me companies ki details jo ati list wise os ka code\n",
    "\n",
    "1. div (id = 'mosaic-provider-jobcards') k andar \"ul\" ka tag id\n",
    "2. ul k andar \"li\" ka tag {har li me indivdual company ka card}\n",
    "3. li k andar div class \"job_seen_beacon\" os k andar sara data\n",
    "\n",
    "\n",
    "\n",
    "\n"
   ]
  },
  {
   "cell_type": "code",
   "execution_count": 5,
   "metadata": {},
   "outputs": [
    {
     "name": "stdout",
     "output_type": "stream",
     "text": [
      "18\n"
     ]
    }
   ],
   "source": [
    "var_cards_company_data = driver.find_element(\"xpath\",\"//div[@id='mosaic-provider-jobcards']\").find_elements(\"xpath\",\"ul/li\")\n",
    "\n",
    "print(len(var_cards_company_data))\n",
    "# saving all data into csv\n",
    "var_csv_cols = ['job_title','company_name',\t'location',\t'salary_range',\t'job_type',\t'description',\t'job_link',\t'indeedApply',\"hiringMultipleCandidates\",\"posted_date\"]\n",
    "\n",
    "\n",
    "# makinf df having columns of var_csv_cols\n",
    "df = pd.DataFrame(columns=var_csv_cols)\n"
   ]
  },
  {
   "cell_type": "code",
   "execution_count": 6,
   "metadata": {},
   "outputs": [],
   "source": [
    "# clicking on each card company name\n",
    "var_cards_company_data[10].click()\n"
   ]
  },
  {
   "cell_type": "code",
   "execution_count": 7,
   "metadata": {},
   "outputs": [
    {
     "name": "stdout",
     "output_type": "stream",
     "text": [
      "<div class=\"cardOutline tapItem dd-privacy-allow result job_d40b4a5002a732a0 resultWithShelf sponTapItem desktop vjs-highlight css-kyg8or eu4oa1w0\">\n",
      " <div class=\"slider_container css-8xisqv eu4oa1w0\" dir=\"auto\">\n",
      "  <div class=\"slider_list css-kyg8or eu4oa1w0\">\n",
      "   <div class=\"slider_item css-kyg8or eu4oa1w0\">\n",
      "    <div class=\"job_seen_beacon\">\n",
      "     <table cellpadding=\"0\" cellspacing=\"0\" class=\"jobCard_mainContent big6_visualChanges\" role=\"presentation\">\n",
      "      <tbody>\n",
      "       <tr>\n",
      "        <td class=\"resultContent\">\n",
      "         <div class=\"css-1m4cuuf e37uo190\">\n",
      "          <h2 class=\"jobTitle css-1h4a4n5 eu4oa1w0\" tabindex=\"-1\">\n",
      "           <a aria-label=\"full details of Frontend Developer Intern\" class=\"jcs-JobTitle css-jspxzf eu4oa1w0\" data-hide-spinner=\"true\" data-hiring-event=\"false\" data-jk=\"d40b4a5002a732a0\" data-mobtk=\"1h3kcpslcj6df800\" href=\"/company/Mean3/jobs/Front-End-Developer-d40b4a5002a732a0?fccid=2221e19daf2ec2e6&amp;vjs=3\" id=\"job_d40b4a5002a732a0\" role=\"button\" target=\"_blank\">\n",
      "            <span id=\"jobTitle-d40b4a5002a732a0\" title=\"Frontend Developer Intern\">\n",
      "             Frontend Developer Intern\n",
      "            </span>\n",
      "           </a>\n",
      "          </h2>\n",
      "         </div>\n",
      "         <div class=\"heading6 company_location tapItem-gutter companyInfo\">\n",
      "          <span class=\"companyName\">\n",
      "           Mean3\n",
      "          </span>\n",
      "          <div class=\"companyLocation\">\n",
      "           Karachi\n",
      "          </div>\n",
      "         </div>\n",
      "         <div class=\"heading6 tapItem-gutter metadataContainer noJEMChips salaryOnly\">\n",
      "          <div class=\"metadata\">\n",
      "           <div class=\"attribute_snippet\" data-testid=\"attribute_snippet_testid\">\n",
      "            <svg aria-hidden=\"true\" aria-label=\"Job type\" fill=\"none\" height=\"13\" role=\"presentation\" viewbox=\"0 0 14 13\" width=\"14\" xmlns=\"http://www.w3.org/2000/svg\">\n",
      "             <path clip-rule=\"evenodd\" d=\"M4.50226.5c-.27614 0-.5.223858-.5.5v2.1H.5c-.276142 0-.5.22386-.5.5v1.9h14V3.6c0-.27614-.2239-.5-.5-.5h-3.4977V1c0-.276142-.22389-.5-.50004-.5h-5Zm4.19962 2.6H5.30344V1.8h3.39844v1.3Z\" fill=\"#595959\" fill-rule=\"evenodd\">\n",
      "             </path>\n",
      "             <path d=\"M5.70117 6.80005H0v5.20005c0 .2761.223857.5.5.5h13c.2761 0 .5-.2239.5-.5V6.80005H8.30117v.80322c0 .27614-.22386.5-.5.5h-1.6c-.27614 0-.5-.22386-.5-.5v-.80322Z\" fill=\"#595959\">\n",
      "             </path>\n",
      "            </svg>\n",
      "            Internship\n",
      "           </div>\n",
      "          </div>\n",
      "         </div>\n",
      "         <div class=\"heading6 error-text tapItem-gutter\">\n",
      "         </div>\n",
      "        </td>\n",
      "       </tr>\n",
      "      </tbody>\n",
      "     </table>\n",
      "     <table class=\"jobCardShelfContainer big6_visualChanges\" role=\"presentation\">\n",
      "      <tbody>\n",
      "       <tr class=\"jobCardShelf\">\n",
      "        <td class=\"shelfItem urgentlyHiring\">\n",
      "         <div class=\"urgentlyHiring\">\n",
      "          <span class=\"urgentlyHiringIcon\">\n",
      "          </span>\n",
      "          Urgently hiring\n",
      "         </div>\n",
      "        </td>\n",
      "       </tr>\n",
      "       <tr class=\"underShelfFooter\">\n",
      "        <td>\n",
      "         <div class=\"heading6 tapItem-gutter result-footer\">\n",
      "          <div class=\"job-snippet\">\n",
      "           <ul style=\"list-style-type:circle;margin-top: 0px;margin-bottom: 0px;padding-left:20px;\">\n",
      "            <li style=\"margin-bottom:0px;\">\n",
      "             Must have done one internship or have good knowledge of\n",
      "             <b>\n",
      "              Frontend\n",
      "             </b>\n",
      "             developer.\n",
      "            </li>\n",
      "            <li>\n",
      "             Timings: 11:00 am -6:00 pm (Ramadan: 10:00 am -4:00 pm).\n",
      "            </li>\n",
      "           </ul>\n",
      "          </div>\n",
      "          <span class=\"date\">\n",
      "           <span class=\"visually-hidden\">\n",
      "            Posted\n",
      "           </span>\n",
      "           Just posted\n",
      "          </span>\n",
      "          <span class=\"result-link-bar-separator\">\n",
      "           ·\n",
      "          </span>\n",
      "          <button aria-expanded=\"false\" class=\"sl resultLink more_links_button\" type=\"button\">\n",
      "           More...\n",
      "          </button>\n",
      "         </div>\n",
      "         <div class=\"tab-container\">\n",
      "          <div class=\"more-links-container result-tab\">\n",
      "           <div class=\"more_links\">\n",
      "            <button aria-label=\"Close\" class=\"close-button\" title=\"Close\" type=\"button\">\n",
      "            </button>\n",
      "            <ul>\n",
      "             <li>\n",
      "              <span class=\"mat\">\n",
      "               View all\n",
      "               <a href=\"/q-mean3-jobs.html\">\n",
      "                Mean3 jobs\n",
      "               </a>\n",
      "               -\n",
      "               <a href=\"/l-karachi-jobs.html\">\n",
      "                Karachi jobs\n",
      "               </a>\n",
      "               -\n",
      "               <a href=\"/q-front-end-developer-l-karachi-jobs.html\">\n",
      "                Front End Developer jobs in Karachi\n",
      "               </a>\n",
      "              </span>\n",
      "             </li>\n",
      "             <li>\n",
      "              <span class=\"mat\">\n",
      "               Salary Search:\n",
      "               <a href=\"/career/front-end-developer/salaries/Karachi?campaignid=serp-more&amp;fromjk=d40b4a5002a732a0&amp;from=serp-more\">\n",
      "                Frontend Developer Intern salaries in Karachi\n",
      "               </a>\n",
      "              </span>\n",
      "             </li>\n",
      "             <li>\n",
      "              <span class=\"mat\">\n",
      "               See popular\n",
      "               <a href=\"/cmp/Mean3/faq\">\n",
      "                questions &amp; answers about Mean3\n",
      "               </a>\n",
      "              </span>\n",
      "             </li>\n",
      "            </ul>\n",
      "           </div>\n",
      "          </div>\n",
      "         </div>\n",
      "        </td>\n",
      "       </tr>\n",
      "      </tbody>\n",
      "     </table>\n",
      "     <div aria-live=\"polite\">\n",
      "     </div>\n",
      "    </div>\n",
      "   </div>\n",
      "   <div class=\"slider_sub_item css-kyg8or eu4oa1w0\">\n",
      "   </div>\n",
      "  </div>\n",
      " </div>\n",
      " <div aria-labelledby=\"jobActionButton-d40b4a5002a732a0 jobTitle-d40b4a5002a732a0\" class=\"kebabMenu\" role=\"group\">\n",
      "  <span aria-live=\"polite\" class=\"visually-hidden\">\n",
      "  </span>\n",
      "  <button aria-expanded=\"false\" aria-haspopup=\"true\" aria-label=\"Job Actions menu is collapsed\" class=\"kebabMenu-button\" id=\"jobActionButton-d40b4a5002a732a0\">\n",
      "   <svg aria-hidden=\"true\" fill=\"none\" height=\"24\" role=\"presentation\" viewbox=\"0 0 24 24\" width=\"24\" xmlns=\"http://www.w3.org/2000/svg\">\n",
      "    <path d=\"M12 7C13.1 7 14 6.1 14 5C14 3.9 13.1 3 12 3C10.9 3 10 3.9 10 5C10 6.1 10.9 7 12 7ZM12 10C10.9 10 10 10.9 10 12C10 13.1 10.9 14 12 14C13.1 14 14 13.1 14 12C14 10.9 13.1 10 12 10ZM12 17C10.9 17 10 17.9 10 19C10 20.1 10.9 21 12 21C13.1 21 14 20.1 14 19C14 17.9 13.1 17 12 17Z\" fill=\"#2d2d2d\">\n",
      "    </path>\n",
      "   </svg>\n",
      "  </button>\n",
      " </div>\n",
      "</div>\n",
      "<span aria-live=\"polite\" class=\"visually-hidden\">\n",
      "</span>\n"
     ]
    }
   ],
   "source": [
    "# temp\n",
    "soup = BeautifulSoup(var_cards_company_data[10].get_attribute('innerHTML'), 'html.parser')\n",
    "print(soup.prettify())"
   ]
  },
  {
   "cell_type": "code",
   "execution_count": 8,
   "metadata": {},
   "outputs": [
    {
     "data": {
      "text/plain": [
       "'Rs 25,000 - Rs 30,000 a month'"
      ]
     },
     "execution_count": 8,
     "metadata": {},
     "output_type": "execute_result"
    }
   ],
   "source": [
    "try:\n",
    "    # find salary\n",
    "    salary_range=var_cards_company_data[10].find_element(\"xpath\",\"//table[@class='jobCard_mainContent big6_visualChanges']\").find_element(\"xpath\",\"//tr\").find_element(\"xpath\",\"td\").find_element(\"xpath\",\"div[@class='heading6 tapItem-gutter metadataContainer noJEMChips salaryOnly']\").find_element(\"xpath\",\"div[@class='metadata salary-snippet-container']\").text\n",
    "except:\n",
    "    salary_range = \"undefine\"\n",
    "\n",
    "salary_range\n"
   ]
  },
  {
   "cell_type": "code",
   "execution_count": 33,
   "metadata": {},
   "outputs": [
    {
     "name": "stdout",
     "output_type": "stream",
     "text": [
      "[]\n"
     ]
    }
   ],
   "source": [
    "soup = BeautifulSoup(var_cards_company_data[10].find_element(\"xpath\",\"//tr[@class = 'jobCardShelf']\").get_attribute('innerHTML'), 'html.parser')\n",
    "# print(soup.prettify())\n",
    "\n",
    "html = str(soup.prettify())\n",
    "\n",
    "regex = r'td class=\"shelfItem ([^\"]*)\">'\n",
    "\n",
    "matches = re.findall(regex, html)\n",
    "next_words = [match.strip() for match in matches]\n",
    "\n",
    "print(next_words)\n"
   ]
  },
  {
   "cell_type": "code",
   "execution_count": 10,
   "metadata": {},
   "outputs": [
    {
     "data": {
      "text/plain": [
       "'Active 3 days ago'"
      ]
     },
     "execution_count": 10,
     "metadata": {},
     "output_type": "execute_result"
    }
   ],
   "source": [
    "# posted date\n",
    "posted_date = var_cards_company_data[10].find_element(\"xpath\",\"//table[@class = 'jobCardShelfContainer big6_visualChanges']\").find_element(\"xpath\",\"//tr[@class = 'underShelfFooter']\").find_element(\"xpath\",\"//span[@class='date']\").text.split(\"\\n\")[-1]\n",
    "posted_date\n"
   ]
  },
  {
   "attachments": {},
   "cell_type": "markdown",
   "metadata": {},
   "source": [
    "#  right portion"
   ]
  },
  {
   "cell_type": "code",
   "execution_count": 12,
   "metadata": {},
   "outputs": [
    {
     "name": "stdout",
     "output_type": "stream",
     "text": [
      "<div class=\"jobsearch-JobComponent-embeddedHeader\">\n",
      " <div class=\"jobsearch-HeaderContainer\">\n",
      "  <div class=\"jobsearch-InfoHeaderContainer\">\n",
      "   <div>\n",
      "    <div class=\"jobsearch-JobInfoHeader-title-container\">\n",
      "     <h2 class=\"icl-u-xs-mb--xs icl-u-xs-mt--none jobsearch-JobInfoHeader-title is-embedded\" dir=\"ltr\" lang=\"en\">\n",
      "      <span>\n",
      "       Frontend Developer Intern\n",
      "       <span class=\"css-1syol37 esbq1260\">\n",
      "        - job post\n",
      "       </span>\n",
      "      </span>\n",
      "     </h2>\n",
      "    </div>\n",
      "    <div class=\"jobsearch-CompanyInfoContainer\">\n",
      "     <div class=\"jobsearch-CompanyInfoWithoutHeaderImage\">\n",
      "      <div>\n",
      "       <div class=\"css-1qz04qx eu4oa1w0\">\n",
      "        <div class=\"css-1h46us2 eu4oa1w0\">\n",
      "         <div class=\"css-1cjkto6 eu4oa1w0\" data-company-name=\"true\">\n",
      "          <a href=\"https://pk.indeed.com/cmp/Mean3?campaignid=mobvjcmp&amp;from=mobviewjob&amp;tk=1h3kcq52fg80j803&amp;fromjk=d40b4a5002a732a0\" target=\"_blank\">\n",
      "           Mean3\n",
      "          </a>\n",
      "         </div>\n",
      "        </div>\n",
      "        <div class=\"css-6z8o9s eu4oa1w0\">\n",
      "         <div>\n",
      "          Karachi\n",
      "         </div>\n",
      "        </div>\n",
      "        <div class=\"css-6z8o9s eu4oa1w0\">\n",
      "        </div>\n",
      "       </div>\n",
      "      </div>\n",
      "     </div>\n",
      "    </div>\n",
      "   </div>\n",
      "   <div class=\"css-kyg8or eu4oa1w0\">\n",
      "    <div>\n",
      "    </div>\n",
      "   </div>\n",
      "   <div class=\"icl-Grid icl-Grid--gutters\">\n",
      "    <div class=\"jobsearch-ViewJobButtons-container is-embedded icl-Grid-col icl-u-xs-span12 css-188irao eu4oa1w0\" id=\"jobsearch-ViewJobButtons-container\">\n",
      "     <div class=\"mosaic mosaic-empty-zone\" id=\"aboveViewjobButtons\">\n",
      "     </div>\n",
      "     <div class=\"jobsearch-ButtonContainer-inlineBlock icl-u-lg-inlineBlock css-kyg8or eu4oa1w0\">\n",
      "      <div class=\"jobsearch-IndeedApplyButton css-1ljcmzr eu4oa1w0\">\n",
      "       <div class=\"ia-IndeedApplyButton\">\n",
      "        <span class=\"indeed-apply-widget indeed-apply-button-container indeed-apply-status-not-applied\" data-indeed-apply-advnum=\"260285174001773\" data-indeed-apply-apitoken=\"aa102235a5ccb18bd3668c0e14aa3ea7e2503cfac2a7a9bf3d6549899e125af4\" data-indeed-apply-coverletter=\"optional\" data-indeed-apply-jk=\"d40b4a5002a732a0\" data-indeed-apply-jobcompanyname=\"Mean3\" data-indeed-apply-jobid=\"de88eeb9c0ff05921c58\" data-indeed-apply-joblocation=\"Karachi\" data-indeed-apply-jobmeta=\"{&amp;quot;vtk&amp;quot;:&amp;quot;1h3kcq52fg80j803&amp;quot;,&amp;quot;tk&amp;quot;:&amp;quot;1h3kcpslcj6df800&amp;quot;}\" data-indeed-apply-jobtitle=\"Frontend Developer Intern\" data-indeed-apply-joburl=\"https://pk.indeed.com/viewjob?jk=d40b4a5002a732a0\" data-indeed-apply-nobuttonui=\"true\" data-indeed-apply-onapplied=\"indeedApplyHandleApply\" data-indeed-apply-onappliedstatus=\"_updateIndeedApplyStatus\" data-indeed-apply-onclick=\"indeedApplyHandleButtonClick\" data-indeed-apply-onclose=\"indeedApplyHandleModalClose\" data-indeed-apply-oncontinueclick=\"indeedApplyHandleModalClose\" data-indeed-apply-onready=\"_onButtonReady\" data-indeed-apply-phone=\"optional\" data-indeed-apply-pingbackurl=\"https://gdc.indeed.com/conv/orgIndApp?co=PK&amp;vjtk=1h3kcq52fg80j803&amp;jk=d40b4a5002a732a0&amp;mvj=0&amp;tk=1h3kcpslcj6df800&amp;trk.origin=jobsearch&amp;vjfrom=vjs&amp;astse=77d9505bf6c77e77&amp;assa=4223\" data-indeed-apply-posturl=\"http://muffit/process-indeedapply\" data-indeed-apply-questions=\"iq://de88eeb9c0ff05921c58?v=1\" data-indeed-apply-recentsearchquery='{\"what\":\"frontend\",\"where\":\"karachi\"}' data-indeed-apply-resume=\"optional\" id=\"indeed-apply-widget\">\n",
      "         <div class=\"jobsearch-IndeedApplyButton-buttonWrapper is-embedded\">\n",
      "          <button aria-label=\"Apply now opens in a new tab\" class=\"css-t8wchy e8ju0x51\" id=\"indeedApplyButton\">\n",
      "           <div class=\"jobsearch-IndeedApplyButton-contentWrapper\">\n",
      "            <span class=\"jobsearch-IndeedApplyButton-newDesign css-1hjxf1u eu4oa1w0\">\n",
      "             Apply now\n",
      "            </span>\n",
      "           </div>\n",
      "          </button>\n",
      "         </div>\n",
      "        </span>\n",
      "       </div>\n",
      "      </div>\n",
      "     </div>\n",
      "     <div aria-hidden=\"false\" class=\"icl-u-lg-inlineBlock\" data-loginurl=\"https://secure.indeed.com/account/login?co=PK&amp;hl=en_PK&amp;continue=http%3A%2F%2Fpk.indeed.com%2Fjobs%3Fq%3Dfrontend%26mGrp%3D-1%26from%3DsearchOnHP%26l%3Dkarachi&amp;from=jsfe-desktopembedded-save-indeedmobile\" id=\"saveJobButtonContainer\">\n",
      "      <div class=\"\">\n",
      "       <div aria-live=\"assertive\">\n",
      "        <button aria-haspopup=\"true\" aria-label=\"Save this job\" class=\"css-166k7et e8ju0x51\" data-dd-action-name=\"save-job\">\n",
      "         <svg class=\"css-1xqhio eac13zx0\" fill=\"currentColor\" focusable=\"false\" role=\"img\" viewbox=\"0 0 24 24\" xmlns=\"http://www.w3.org/2000/svg\">\n",
      "          <title>\n",
      "           save-icon\n",
      "          </title>\n",
      "          <path clip-rule=\"evenodd\" d=\"M12 14.616l6 3.905V4H6v14.52l6-3.905zM4.383 21.96A.25.25 0 014 21.748V2.502a.5.5 0 01.5-.5h15a.5.5 0 01.5.5v19.246a.25.25 0 01-.383.212L12 17.002 4.383 21.96z\" fill-rule=\"evenodd\">\n",
      "          </path>\n",
      "         </svg>\n",
      "        </button>\n",
      "       </div>\n",
      "      </div>\n",
      "     </div>\n",
      "     <div class=\"mosaic mosaic-empty-zone\" id=\"belowViewjobButtons\">\n",
      "     </div>\n",
      "    </div>\n",
      "   </div>\n",
      "  </div>\n",
      " </div>\n",
      "</div>\n",
      "<div class=\"jobsearch-embeddedBody css-1omm75o eu4oa1w0\" tabindex=\"-1\">\n",
      " <div class=\"jobsearch-BodyContainer\">\n",
      "  <div>\n",
      "  </div>\n",
      "  <div class=\"jobsearch-JobComponent-description css-kyg8or eu4oa1w0\" tabindex=\"0\">\n",
      "   <div class=\"mosaic mosaic-empty-zone\" id=\"aboveFullJobDescription\">\n",
      "   </div>\n",
      "   <div class=\"mosaic mosaic-empty-zone\" id=\"aboveExtractedJobDescription\">\n",
      "   </div>\n",
      "   <div class=\"css-804pn3 eu4oa1w0\" id=\"jobDetailsSection\">\n",
      "    <div class=\"jobsearch-JobDescriptionSection-title css-4m8ia3 eu4oa1w0\">\n",
      "     <h2 class=\"css-ji0ia1 e1tiznh50\" id=\"jobDetails\" tabindex=\"-1\">\n",
      "      Job details\n",
      "     </h2>\n",
      "     <div class=\"css-7c0b8 eu4oa1w0\">\n",
      "      <span>\n",
      "       No matching\n",
      "       <a aria-label=\"job preferences (opens in a new window)\" class=\"css-6pji5a emf9s7v0\" href=\"https://profile.indeed.com/preferences\" rel=\"noopener\" target=\"_blank\">\n",
      "        job preferences\n",
      "        <svg aria-hidden=\"true\" class=\"css-r5jz5s eac13zx0\" fill=\"currentColor\" focusable=\"false\" role=\"img\" viewbox=\"0 0 24 24\" xmlns=\"http://www.w3.org/2000/svg\">\n",
      "         <path d=\"M14.504 3a.5.5 0 00-.5.5v1a.5.5 0 00.5.5h3.085l-9.594 9.594a.5.5 0 000 .707l.707.708a.5.5 0 00.707 0l9.594-9.595V9.5a.5.5 0 00.5.5h1a.5.5 0 00.5-.5v-6a.5.5 0 00-.5-.5h-6z\">\n",
      "         </path>\n",
      "         <path d=\"M5 3.002a2 2 0 00-2 2v13.996a2 2 0 001.996 2.004h14a2 2 0 002-2v-6.5a.5.5 0 00-.5-.5h-1a.5.5 0 00-.5.5v6.5L5 18.998V5.002L11.5 5a.495.495 0 00.496-.498v-1a.5.5 0 00-.5-.5H5z\">\n",
      "         </path>\n",
      "        </svg>\n",
      "       </a>\n",
      "      </span>\n",
      "     </div>\n",
      "    </div>\n",
      "    <div class=\"css-4m8ia3 eu4oa1w0\">\n",
      "     <div class=\"css-fhkva6 eu4oa1w0\">\n",
      "      <svg aria-hidden=\"true\" class=\"css-r72e78 eac13zx0\" fill=\"currentColor\" focusable=\"false\" role=\"img\" viewbox=\"0 0 24 24\" xmlns=\"http://www.w3.org/2000/svg\">\n",
      "       <path clip-rule=\"evenodd\" d=\"M7.5 3a.5.5 0 00-.5.5V7H2.5a.5.5 0 00-.5.5V11h20V7.5a.5.5 0 00-.5-.5H17V3.5a.5.5 0 00-.5-.5h-9zM15 7H9V5h6v2z\">\n",
      "       </path>\n",
      "       <path d=\"M10 13H2v7.5a.5.5 0 00.5.5h19a.5.5 0 00.5-.5V13h-8v1.51a.5.5 0 01-.5.5h-3a.5.5 0 01-.5-.5V13z\">\n",
      "       </path>\n",
      "      </svg>\n",
      "      Job Type\n",
      "     </div>\n",
      "     <div class=\"css-1hplm3f eu4oa1w0\">\n",
      "      <div class=\"css-m539th eu4oa1w0\">\n",
      "       <div class=\"css-1p3gyjy e1xnxm2i0\">\n",
      "        <div class=\"css-g6kqeb ecydgvn0\">\n",
      "         <div class=\"css-tvvxwd ecydgvn1\">\n",
      "          Internship\n",
      "         </div>\n",
      "        </div>\n",
      "       </div>\n",
      "      </div>\n",
      "     </div>\n",
      "    </div>\n",
      "   </div>\n",
      "   <div class=\"jobsearch-jobDescriptionText jobsearch-JobComponent-description\" id=\"jobDescriptionText\">\n",
      "    <ul>\n",
      "     <li>\n",
      "      Must have done one internship or have good knowledge of Frontend developer\n",
      "     </li>\n",
      "     <li>\n",
      "      Graduate\n",
      "     </li>\n",
      "     <li>\n",
      "      Timings: 11:00 am -6:00 pm (Ramadan: 10:00 am -4:00 pm)\n",
      "     </li>\n",
      "    </ul>\n",
      "    <p>\n",
      "     Job Type: Internship\n",
      "     <br/>\n",
      "     Contract length: 3 months\n",
      "    </p>\n",
      "    <p>\n",
      "     Ability to commute/relocate:\n",
      "    </p>\n",
      "    <ul>\n",
      "     <li>\n",
      "      Karachi: Reliably commute or planning to relocate before starting work (Required)\n",
      "     </li>\n",
      "    </ul>\n",
      "   </div>\n",
      "  </div>\n",
      "  <div class=\"mosaic mosaic-empty-zone\" id=\"belowFullJobDescription\">\n",
      "  </div>\n",
      "  <div class=\"jobsearch-JobMetadataFooter\">\n",
      "   <div class=\"mosaic mosaic-provider-reportcontent mosaic-provider-hydrated\" id=\"mosaic-provider-reportcontent\" style=\"--mosaic-placeholder-width: 0px; --mosaic-placeholder-height: 0px;\">\n",
      "    <div class=\"mosaic-reportcontent-wrapper button\">\n",
      "     <button class=\"mosaic-reportcontent-button desktop css-16q8vsx e8ju0x51\">\n",
      "      <span class=\"mosaic-reportcontent-button-icon\">\n",
      "      </span>\n",
      "      Report job\n",
      "     </button>\n",
      "     <div class=\"mosaic-reportcontent-content\">\n",
      "     </div>\n",
      "    </div>\n",
      "   </div>\n",
      "  </div>\n",
      " </div>\n",
      "</div>\n"
     ]
    }
   ],
   "source": [
    "# page ka right side\n",
    "var_right_side = driver.find_element(\"xpath\",\"//div[@class = 'jobsearch-JobComponent icl-u-xs-mt--sm jobsearch-JobComponent--embedded css-axjo09 eu4oa1w0']\")\n",
    "#ab yaha sy user interction(kisi button py click karna etc etc) kahtam hun gaya just data scrape karna han so we need to use bs4. \n",
    "\n",
    "# bs4\n",
    "soup = BeautifulSoup(var_right_side.get_attribute('innerHTML'), 'html.parser')\n",
    "print(soup.prettify())\n",
    "\n",
    "\n"
   ]
  },
  {
   "attachments": {},
   "cell_type": "markdown",
   "metadata": {},
   "source": [
    "### left up portion (jis me job title,comapny name, location and apply karny ka button han)\n"
   ]
  },
  {
   "cell_type": "code",
   "execution_count": 13,
   "metadata": {},
   "outputs": [
    {
     "name": "stdout",
     "output_type": "stream",
     "text": [
      "<div class=\"jobsearch-InfoHeaderContainer\">\n",
      " <div>\n",
      "  <div class=\"jobsearch-JobInfoHeader-title-container\">\n",
      "   <h2 class=\"icl-u-xs-mb--xs icl-u-xs-mt--none jobsearch-JobInfoHeader-title is-embedded\" dir=\"ltr\" lang=\"en\">\n",
      "    <span>\n",
      "     Frontend Developer Intern\n",
      "     <span class=\"css-1syol37 esbq1260\">\n",
      "      - job post\n",
      "     </span>\n",
      "    </span>\n",
      "   </h2>\n",
      "  </div>\n",
      "  <div class=\"jobsearch-CompanyInfoContainer\">\n",
      "   <div class=\"jobsearch-CompanyInfoWithoutHeaderImage\">\n",
      "    <div>\n",
      "     <div class=\"css-1qz04qx eu4oa1w0\">\n",
      "      <div class=\"css-1h46us2 eu4oa1w0\">\n",
      "       <div class=\"css-1cjkto6 eu4oa1w0\" data-company-name=\"true\">\n",
      "        <a href=\"https://pk.indeed.com/cmp/Mean3?campaignid=mobvjcmp&amp;from=mobviewjob&amp;tk=1h3kcq52fg80j803&amp;fromjk=d40b4a5002a732a0\" target=\"_blank\">\n",
      "         Mean3\n",
      "        </a>\n",
      "       </div>\n",
      "      </div>\n",
      "      <div class=\"css-6z8o9s eu4oa1w0\">\n",
      "       <div>\n",
      "        Karachi\n",
      "       </div>\n",
      "      </div>\n",
      "      <div class=\"css-6z8o9s eu4oa1w0\">\n",
      "      </div>\n",
      "     </div>\n",
      "    </div>\n",
      "   </div>\n",
      "  </div>\n",
      " </div>\n",
      " <div class=\"css-kyg8or eu4oa1w0\">\n",
      "  <div>\n",
      "  </div>\n",
      " </div>\n",
      " <div class=\"icl-Grid icl-Grid--gutters\">\n",
      "  <div class=\"jobsearch-ViewJobButtons-container is-embedded icl-Grid-col icl-u-xs-span12 css-188irao eu4oa1w0\" id=\"jobsearch-ViewJobButtons-container\">\n",
      "   <div class=\"mosaic mosaic-empty-zone\" id=\"aboveViewjobButtons\">\n",
      "   </div>\n",
      "   <div class=\"jobsearch-ButtonContainer-inlineBlock icl-u-lg-inlineBlock css-kyg8or eu4oa1w0\">\n",
      "    <div class=\"jobsearch-IndeedApplyButton css-1ljcmzr eu4oa1w0\">\n",
      "     <div class=\"ia-IndeedApplyButton\">\n",
      "      <span class=\"indeed-apply-widget indeed-apply-button-container indeed-apply-status-not-applied\" data-indeed-apply-advnum=\"260285174001773\" data-indeed-apply-apitoken=\"aa102235a5ccb18bd3668c0e14aa3ea7e2503cfac2a7a9bf3d6549899e125af4\" data-indeed-apply-coverletter=\"optional\" data-indeed-apply-jk=\"d40b4a5002a732a0\" data-indeed-apply-jobcompanyname=\"Mean3\" data-indeed-apply-jobid=\"de88eeb9c0ff05921c58\" data-indeed-apply-joblocation=\"Karachi\" data-indeed-apply-jobmeta=\"{&amp;quot;vtk&amp;quot;:&amp;quot;1h3kcq52fg80j803&amp;quot;,&amp;quot;tk&amp;quot;:&amp;quot;1h3kcpslcj6df800&amp;quot;}\" data-indeed-apply-jobtitle=\"Frontend Developer Intern\" data-indeed-apply-joburl=\"https://pk.indeed.com/viewjob?jk=d40b4a5002a732a0\" data-indeed-apply-nobuttonui=\"true\" data-indeed-apply-onapplied=\"indeedApplyHandleApply\" data-indeed-apply-onappliedstatus=\"_updateIndeedApplyStatus\" data-indeed-apply-onclick=\"indeedApplyHandleButtonClick\" data-indeed-apply-onclose=\"indeedApplyHandleModalClose\" data-indeed-apply-oncontinueclick=\"indeedApplyHandleModalClose\" data-indeed-apply-onready=\"_onButtonReady\" data-indeed-apply-phone=\"optional\" data-indeed-apply-pingbackurl=\"https://gdc.indeed.com/conv/orgIndApp?co=PK&amp;vjtk=1h3kcq52fg80j803&amp;jk=d40b4a5002a732a0&amp;mvj=0&amp;tk=1h3kcpslcj6df800&amp;trk.origin=jobsearch&amp;vjfrom=vjs&amp;astse=77d9505bf6c77e77&amp;assa=4223\" data-indeed-apply-posturl=\"http://muffit/process-indeedapply\" data-indeed-apply-questions=\"iq://de88eeb9c0ff05921c58?v=1\" data-indeed-apply-recentsearchquery='{\"what\":\"frontend\",\"where\":\"karachi\"}' data-indeed-apply-resume=\"optional\" id=\"indeed-apply-widget\">\n",
      "       <div class=\"jobsearch-IndeedApplyButton-buttonWrapper is-embedded\">\n",
      "        <button aria-label=\"Apply now opens in a new tab\" class=\"css-t8wchy e8ju0x51\" id=\"indeedApplyButton\">\n",
      "         <div class=\"jobsearch-IndeedApplyButton-contentWrapper\">\n",
      "          <span class=\"jobsearch-IndeedApplyButton-newDesign css-1hjxf1u eu4oa1w0\">\n",
      "           Apply now\n",
      "          </span>\n",
      "         </div>\n",
      "        </button>\n",
      "       </div>\n",
      "      </span>\n",
      "     </div>\n",
      "    </div>\n",
      "   </div>\n",
      "   <div aria-hidden=\"false\" class=\"icl-u-lg-inlineBlock\" data-loginurl=\"https://secure.indeed.com/account/login?co=PK&amp;hl=en_PK&amp;continue=http%3A%2F%2Fpk.indeed.com%2Fjobs%3Fq%3Dfrontend%26mGrp%3D-1%26from%3DsearchOnHP%26l%3Dkarachi&amp;from=jsfe-desktopembedded-save-indeedmobile\" id=\"saveJobButtonContainer\">\n",
      "    <div class=\"\">\n",
      "     <div aria-live=\"assertive\">\n",
      "      <button aria-haspopup=\"true\" aria-label=\"Save this job\" class=\"css-166k7et e8ju0x51\" data-dd-action-name=\"save-job\">\n",
      "       <svg class=\"css-1xqhio eac13zx0\" fill=\"currentColor\" focusable=\"false\" role=\"img\" viewbox=\"0 0 24 24\" xmlns=\"http://www.w3.org/2000/svg\">\n",
      "        <title>\n",
      "         save-icon\n",
      "        </title>\n",
      "        <path clip-rule=\"evenodd\" d=\"M12 14.616l6 3.905V4H6v14.52l6-3.905zM4.383 21.96A.25.25 0 014 21.748V2.502a.5.5 0 01.5-.5h15a.5.5 0 01.5.5v19.246a.25.25 0 01-.383.212L12 17.002 4.383 21.96z\" fill-rule=\"evenodd\">\n",
      "        </path>\n",
      "       </svg>\n",
      "      </button>\n",
      "     </div>\n",
      "    </div>\n",
      "   </div>\n",
      "   <div class=\"mosaic mosaic-empty-zone\" id=\"belowViewjobButtons\">\n",
      "   </div>\n",
      "  </div>\n",
      " </div>\n",
      "</div>\n"
     ]
    }
   ],
   "source": [
    "print(soup.find('div',class_=\"jobsearch-InfoHeaderContainer\").prettify())\n",
    "# text"
   ]
  },
  {
   "cell_type": "code",
   "execution_count": 14,
   "metadata": {},
   "outputs": [
    {
     "data": {
      "text/plain": [
       "'Frontend Developer Intern'"
      ]
     },
     "execution_count": 14,
     "metadata": {},
     "output_type": "execute_result"
    }
   ],
   "source": [
    "# job title\n",
    "job_title = soup.find('h2',class_='icl-u-xs-mb--xs icl-u-xs-mt--none jobsearch-JobInfoHeader-title is-embedded').text.replace(\" - job post\",\"\")\n",
    "job_title"
   ]
  },
  {
   "cell_type": "code",
   "execution_count": 15,
   "metadata": {},
   "outputs": [
    {
     "data": {
      "text/plain": [
       "'Mean3'"
      ]
     },
     "execution_count": 15,
     "metadata": {},
     "output_type": "execute_result"
    }
   ],
   "source": [
    "# comapny name\n",
    "company_name = soup.find(\"div\",class_=\"css-1h46us2 eu4oa1w0\").text #comapny name\n",
    "company_name"
   ]
  },
  {
   "cell_type": "code",
   "execution_count": 16,
   "metadata": {},
   "outputs": [
    {
     "data": {
      "text/plain": [
       "'Karachi'"
      ]
     },
     "execution_count": 16,
     "metadata": {},
     "output_type": "execute_result"
    }
   ],
   "source": [
    "# location\n",
    "location = soup.find(\"div\",class_=\"css-6z8o9s eu4oa1w0\").text #location\n",
    "location\n"
   ]
  },
  {
   "cell_type": "code",
   "execution_count": 17,
   "metadata": {},
   "outputs": [
    {
     "data": {
      "text/plain": [
       "[<div class=\"css-6z8o9s eu4oa1w0\"><div>Karachi</div></div>,\n",
       " <div class=\"css-6z8o9s eu4oa1w0\"></div>]"
      ]
     },
     "execution_count": 17,
     "metadata": {},
     "output_type": "execute_result"
    }
   ],
   "source": [
    "# nechy waly code me 2 divs aa rahy. may be contry ka hun. lakin abhi pata nahi q future me kaam aa skta\n",
    "soup.find_all(\"div\",class_=\"css-6z8o9s eu4oa1w0\")\n",
    "# .text #location\n"
   ]
  },
  {
   "attachments": {},
   "cell_type": "markdown",
   "metadata": {},
   "source": [
    "### left down portion (jis me job description wagera han)\n"
   ]
  },
  {
   "cell_type": "code",
   "execution_count": 18,
   "metadata": {},
   "outputs": [
    {
     "data": {
      "text/plain": [
       "<div class=\"jobsearch-embeddedBody css-1omm75o eu4oa1w0\" tabindex=\"-1\"><div class=\"jobsearch-BodyContainer\"><div></div><div class=\"jobsearch-JobComponent-description css-kyg8or eu4oa1w0\" tabindex=\"0\"><div class=\"mosaic mosaic-empty-zone\" id=\"aboveFullJobDescription\"></div><div class=\"mosaic mosaic-empty-zone\" id=\"aboveExtractedJobDescription\"></div><div class=\"css-804pn3 eu4oa1w0\" id=\"jobDetailsSection\"><div class=\"jobsearch-JobDescriptionSection-title css-4m8ia3 eu4oa1w0\"><h2 class=\"css-ji0ia1 e1tiznh50\" id=\"jobDetails\" tabindex=\"-1\">Job details</h2><div class=\"css-7c0b8 eu4oa1w0\"><span>No matching <a aria-label=\"job preferences (opens in a new window)\" class=\"css-6pji5a emf9s7v0\" href=\"https://profile.indeed.com/preferences\" rel=\"noopener\" target=\"_blank\">job preferences<svg aria-hidden=\"true\" class=\"css-r5jz5s eac13zx0\" fill=\"currentColor\" focusable=\"false\" role=\"img\" viewbox=\"0 0 24 24\" xmlns=\"http://www.w3.org/2000/svg\"><path d=\"M14.504 3a.5.5 0 00-.5.5v1a.5.5 0 00.5.5h3.085l-9.594 9.594a.5.5 0 000 .707l.707.708a.5.5 0 00.707 0l9.594-9.595V9.5a.5.5 0 00.5.5h1a.5.5 0 00.5-.5v-6a.5.5 0 00-.5-.5h-6z\"></path><path d=\"M5 3.002a2 2 0 00-2 2v13.996a2 2 0 001.996 2.004h14a2 2 0 002-2v-6.5a.5.5 0 00-.5-.5h-1a.5.5 0 00-.5.5v6.5L5 18.998V5.002L11.5 5a.495.495 0 00.496-.498v-1a.5.5 0 00-.5-.5H5z\"></path></svg></a></span></div></div><div class=\"css-4m8ia3 eu4oa1w0\"><div class=\"css-fhkva6 eu4oa1w0\"><svg aria-hidden=\"true\" class=\"css-r72e78 eac13zx0\" fill=\"currentColor\" focusable=\"false\" role=\"img\" viewbox=\"0 0 24 24\" xmlns=\"http://www.w3.org/2000/svg\"><path clip-rule=\"evenodd\" d=\"M7.5 3a.5.5 0 00-.5.5V7H2.5a.5.5 0 00-.5.5V11h20V7.5a.5.5 0 00-.5-.5H17V3.5a.5.5 0 00-.5-.5h-9zM15 7H9V5h6v2z\"></path><path d=\"M10 13H2v7.5a.5.5 0 00.5.5h19a.5.5 0 00.5-.5V13h-8v1.51a.5.5 0 01-.5.5h-3a.5.5 0 01-.5-.5V13z\"></path></svg>Job Type</div><div class=\"css-1hplm3f eu4oa1w0\"><div class=\"css-m539th eu4oa1w0\"><div class=\"css-1p3gyjy e1xnxm2i0\"><div class=\"css-g6kqeb ecydgvn0\"><div class=\"css-tvvxwd ecydgvn1\">Internship</div></div></div></div></div></div></div><div class=\"jobsearch-jobDescriptionText jobsearch-JobComponent-description\" id=\"jobDescriptionText\"><ul>\n",
       "<li>Must have done one internship or have good knowledge of Frontend developer</li>\n",
       "<li>Graduate</li>\n",
       "<li>Timings: 11:00 am -6:00 pm (Ramadan: 10:00 am -4:00 pm)</li>\n",
       "</ul>\n",
       "<p>Job Type: Internship<br/>Contract length: 3 months</p>\n",
       "<p>Ability to commute/relocate:</p>\n",
       "<ul>\n",
       "<li>Karachi: Reliably commute or planning to relocate before starting work (Required)</li>\n",
       "</ul></div></div><div class=\"mosaic mosaic-empty-zone\" id=\"belowFullJobDescription\"></div><div class=\"jobsearch-JobMetadataFooter\"><div class=\"mosaic mosaic-provider-reportcontent mosaic-provider-hydrated\" id=\"mosaic-provider-reportcontent\" style=\"--mosaic-placeholder-width: 0px; --mosaic-placeholder-height: 0px;\"><div class=\"mosaic-reportcontent-wrapper button\"><button class=\"mosaic-reportcontent-button desktop css-16q8vsx e8ju0x51\"><span class=\"mosaic-reportcontent-button-icon\"></span>Report job</button><div class=\"mosaic-reportcontent-content\"></div></div></div></div></div></div>"
      ]
     },
     "execution_count": 18,
     "metadata": {},
     "output_type": "execute_result"
    }
   ],
   "source": [
    "var_soup_job_des = soup.find(\"div\",class_='jobsearch-embeddedBody css-1omm75o eu4oa1w0')\n",
    "\n",
    "var_soup_job_des"
   ]
  },
  {
   "cell_type": "code",
   "execution_count": 19,
   "metadata": {},
   "outputs": [
    {
     "data": {
      "text/plain": [
       "'Internship'"
      ]
     },
     "execution_count": 19,
     "metadata": {},
     "output_type": "execute_result"
    }
   ],
   "source": [
    "# job type\n",
    "job_type = var_soup_job_des.find(\"div\",class_=\"css-tvvxwd ecydgvn1\").text\n",
    "job_type\n"
   ]
  },
  {
   "cell_type": "code",
   "execution_count": 27,
   "metadata": {},
   "outputs": [
    {
     "data": {
      "text/plain": [
       "'\\nMust have done one internship or have good knowledge of Frontend developer\\nGraduate\\nTimings: 11:00 am -6:00 pm (Ramadan: 10:00 am -4:00 pm)\\n\\nJob Type: InternshipContract length: 3 months\\nAbility to commute/relocate:\\n\\nKarachi: Reliably commute or planning to relocate before starting work (Required)\\n'"
      ]
     },
     "execution_count": 27,
     "metadata": {},
     "output_type": "execute_result"
    }
   ],
   "source": [
    "# jobDescriptionText\n",
    "description = var_soup_job_des.find(\"div\",id=\"jobDescriptionText\").text\n",
    "# save in text file\n",
    "with open(\"jobDescriptionText.txt\",\"w\",encoding=\"utf-8\") as f:\n",
    "    f.write(var_soup_job_des.find(\"div\",id=\"jobDescriptionText\").text)\n",
    "    f.close()\n",
    "description"
   ]
  },
  {
   "cell_type": "code",
   "execution_count": 21,
   "metadata": {},
   "outputs": [
    {
     "data": {
      "text/plain": [
       "'https://pk.indeed.com/jobs?q=frontend&l=karachi&from=searchOnHP&vjk=d40b4a5002a732a0'"
      ]
     },
     "execution_count": 21,
     "metadata": {},
     "output_type": "execute_result"
    }
   ],
   "source": [
    "# getting link\n",
    "job_link = driver.current_url\n",
    "job_link"
   ]
  },
  {
   "cell_type": "code",
   "execution_count": 22,
   "metadata": {},
   "outputs": [
    {
     "data": {
      "text/plain": [
       "{'job_title': '',\n",
       " 'company_name': '',\n",
       " 'location': '',\n",
       " 'salary_range': '',\n",
       " 'job_type': '',\n",
       " 'description': '',\n",
       " 'job_link': '',\n",
       " 'indeedApply': '',\n",
       " 'hiringMultipleCandidates': '',\n",
       " 'posted_date': ''}"
      ]
     },
     "execution_count": 22,
     "metadata": {},
     "output_type": "execute_result"
    }
   ],
   "source": [
    "\n",
    "# making an empty dictionary on above listt\n",
    "var_dict = {i:'' for i in var_csv_cols}\n",
    "var_dict"
   ]
  },
  {
   "cell_type": "code",
   "execution_count": 37,
   "metadata": {},
   "outputs": [
    {
     "data": {
      "text/plain": [
       "[]"
      ]
     },
     "execution_count": 37,
     "metadata": {},
     "output_type": "execute_result"
    }
   ],
   "source": [
    "# var_dict[i]\n",
    "next_words"
   ]
  },
  {
   "cell_type": "code",
   "execution_count": 35,
   "metadata": {},
   "outputs": [
    {
     "data": {
      "text/plain": [
       "{'job_title': 'Frontend Developer Intern',\n",
       " 'company_name': 'Mean3',\n",
       " 'location': 'Karachi',\n",
       " 'salary_range': 'Rs 25,000 - Rs 30,000 a month',\n",
       " 'job_type': 'Internship',\n",
       " 'description': '\\nMust have done one internship or have good knowledge of Frontend developer\\nGraduate\\nTimings: 11:00 am -6:00 pm (Ramadan: 10:00 am -4:00 pm)\\n\\nJob Type: InternshipContract length: 3 months\\nAbility to commute/relocate:\\n\\nKarachi: Reliably commute or planning to relocate before starting work (Required)\\n',\n",
       " 'job_link': 'https://pk.indeed.com/jobs?q=frontend&l=karachi&from=searchOnHP&vjk=d40b4a5002a732a0',\n",
       " 'indeedApply': '',\n",
       " 'hiringMultipleCandidates': '',\n",
       " 'posted_date': 'Active 3 days ago'}"
      ]
     },
     "execution_count": 35,
     "metadata": {},
     "output_type": "execute_result"
    }
   ],
   "source": [
    "# if next_words have any of var_dict keys than put 1 of each keys values in var_dic\n",
    "for i in next_words:\n",
    "    if i in var_dict.keys():\n",
    "        var_dict[i] = 1\n",
    "    else:\n",
    "        var_dict[i] = 0\n",
    "\n",
    "var_dict"
   ]
  },
  {
   "cell_type": "code",
   "execution_count": 32,
   "metadata": {},
   "outputs": [
    {
     "data": {
      "text/plain": [
       "dict_keys(['job_title', 'company_name', 'location', 'salary_range', 'job_type', 'description', 'job_link', 'indeedApply', 'hiringMultipleCandidates', 'posted_date'])"
      ]
     },
     "execution_count": 32,
     "metadata": {},
     "output_type": "execute_result"
    }
   ],
   "source": [
    "var_dict.keys()"
   ]
  },
  {
   "cell_type": "code",
   "execution_count": 38,
   "metadata": {},
   "outputs": [
    {
     "name": "stdout",
     "output_type": "stream",
     "text": [
      "{'job_title': 'Frontend Developer Intern', 'company_name': 'Mean3', 'location': 'Karachi', 'salary_range': 'Rs 25,000 - Rs 30,000 a month', 'job_type': 'Internship', 'description': '\\nMust have done one internship or have good knowledge of Frontend developer\\nGraduate\\nTimings: 11:00 am -6:00 pm (Ramadan: 10:00 am -4:00 pm)\\n\\nJob Type: InternshipContract length: 3 months\\nAbility to commute/relocate:\\n\\nKarachi: Reliably commute or planning to relocate before starting work (Required)\\n', 'job_link': 'https://pk.indeed.com/jobs?q=frontend&l=karachi&from=searchOnHP&vjk=d40b4a5002a732a0', 'indeedApply': '', 'hiringMultipleCandidates': '', 'posted_date': 'Active 3 days ago'}\n"
     ]
    }
   ],
   "source": [
    "var_dict[\"job_title\"] =job_title\n",
    "\n",
    "var_dict[\"company_name\"] =company_name\n",
    "var_dict[\"location\"] =location\n",
    "var_dict[\"salary_range\"] =salary_range\n",
    "\n",
    "var_dict[\"job_type\"] =job_type\n",
    "var_dict[\"description\"] = description\n",
    "var_dict[\"job_link\"] =job_link\n",
    "# var_dict[\"indeedApply\"] = indeedApply\n",
    "# var_dict[\"hiringMultipleCandidates\"] = hiringMultipleCandidates\n",
    "\n",
    "\n",
    "var_dict[\"posted_date\"] =posted_date\n",
    "\n",
    "\n",
    "print(var_dict)\n"
   ]
  },
  {
   "cell_type": "code",
   "execution_count": 29,
   "metadata": {},
   "outputs": [
    {
     "data": {
      "text/html": [
       "<div>\n",
       "<style scoped>\n",
       "    .dataframe tbody tr th:only-of-type {\n",
       "        vertical-align: middle;\n",
       "    }\n",
       "\n",
       "    .dataframe tbody tr th {\n",
       "        vertical-align: top;\n",
       "    }\n",
       "\n",
       "    .dataframe thead th {\n",
       "        text-align: right;\n",
       "    }\n",
       "</style>\n",
       "<table border=\"1\" class=\"dataframe\">\n",
       "  <thead>\n",
       "    <tr style=\"text-align: right;\">\n",
       "      <th></th>\n",
       "      <th>job_title</th>\n",
       "      <th>company_name</th>\n",
       "      <th>location</th>\n",
       "      <th>salary_range</th>\n",
       "      <th>job_type</th>\n",
       "      <th>description</th>\n",
       "      <th>job_link</th>\n",
       "      <th>indeedApply</th>\n",
       "      <th>hiringMultipleCandidates</th>\n",
       "      <th>posted_date</th>\n",
       "    </tr>\n",
       "  </thead>\n",
       "  <tbody>\n",
       "    <tr>\n",
       "      <th>0</th>\n",
       "      <td>Frontend Developer Intern</td>\n",
       "      <td>Mean3</td>\n",
       "      <td>Karachi</td>\n",
       "      <td></td>\n",
       "      <td>Internship</td>\n",
       "      <td>\\nMust have done one internship or have good k...</td>\n",
       "      <td>https://pk.indeed.com/jobs?q=frontend&amp;l=karach...</td>\n",
       "      <td></td>\n",
       "      <td></td>\n",
       "      <td></td>\n",
       "    </tr>\n",
       "    <tr>\n",
       "      <th>1</th>\n",
       "      <td>Frontend Developer Intern</td>\n",
       "      <td>Mean3</td>\n",
       "      <td>Karachi</td>\n",
       "      <td>Rs 25,000 - Rs 30,000 a month</td>\n",
       "      <td>Internship</td>\n",
       "      <td>\\nMust have done one internship or have good k...</td>\n",
       "      <td>https://pk.indeed.com/jobs?q=frontend&amp;l=karach...</td>\n",
       "      <td></td>\n",
       "      <td></td>\n",
       "      <td>Active 3 days ago</td>\n",
       "    </tr>\n",
       "  </tbody>\n",
       "</table>\n",
       "</div>"
      ],
      "text/plain": [
       "                   job_title company_name location  \\\n",
       "0  Frontend Developer Intern        Mean3  Karachi   \n",
       "1  Frontend Developer Intern        Mean3  Karachi   \n",
       "\n",
       "                    salary_range    job_type  \\\n",
       "0                                 Internship   \n",
       "1  Rs 25,000 - Rs 30,000 a month  Internship   \n",
       "\n",
       "                                         description  \\\n",
       "0  \\nMust have done one internship or have good k...   \n",
       "1  \\nMust have done one internship or have good k...   \n",
       "\n",
       "                                            job_link indeedApply  \\\n",
       "0  https://pk.indeed.com/jobs?q=frontend&l=karach...               \n",
       "1  https://pk.indeed.com/jobs?q=frontend&l=karach...               \n",
       "\n",
       "  hiringMultipleCandidates        posted_date  \n",
       "0                                              \n",
       "1                           Active 3 days ago  "
      ]
     },
     "execution_count": 29,
     "metadata": {},
     "output_type": "execute_result"
    }
   ],
   "source": [
    "# adding var_dict to df\n",
    "df = df.append(var_dict,ignore_index=True)\n",
    "df"
   ]
  },
  {
   "cell_type": "code",
   "execution_count": 39,
   "metadata": {},
   "outputs": [],
   "source": [
    "df.to_csv(\"extracted_data.csv\",index=False)"
   ]
  },
  {
   "cell_type": "code",
   "execution_count": 40,
   "metadata": {},
   "outputs": [
    {
     "name": "stdout",
     "output_type": "stream",
     "text": [
      "Matched Keywords: {'of', 'interactive', 'git', 'portfolio', 'development', 'showcasing', 'creating', 'proficiency', 'developer', 'to', 'end', 'communication', 'strong', 'seamless', 'with', 'react', 'skills', 'solving', 'node', 'on', 'the', 'friendly', 'html', 'using', 'problem', 'projects', 'hands', 'interfaces', 'a', 'responsive', 'technical', 'role', 'for', 'web', 'css', 'that', 'intuitive', 'website', 'knowledge', 'design', 'software', 'and', 'javascript', 'js', 'team', 'teamwork', 'in', 'features', 'is', 'experience', 'user'}\n",
      "Number of Matches: 51\n"
     ]
    }
   ],
   "source": [
    "import re\n",
    "\n",
    "def keyword_matching(resume, job_description):\n",
    "    resume_keywords = set(re.findall(r'\\b\\w+\\b', resume.lower()))\n",
    "    job_keywords = set(re.findall(r'\\b\\w+\\b', job_description.lower()))\n",
    "    matched_keywords = resume_keywords.intersection(job_keywords)\n",
    "    return matched_keywords\n",
    "\n",
    "# Example usage\n",
    "resume_text = '''\n",
    "\n",
    "EHTISHAM ALI\n",
    "03412373830 | etsali232@gmail.com | linkedin.com/in/ali-ehtisham/ | github.com/ehtish\n",
    "Objective\n",
    "Skilled web developer with expertise in HTML, CSS, JavaScript, Bootstrap, and React. Passionate about creating visually stunning and user-friendly web experiences. Seeking a challenging role to leverage MERN stack proficiency and drive impactful solutions that exceed client expectations.\n",
    "Experience\n",
    "CONTOUR SOFTWARE\n",
    "MERN stack trainee\n",
    "- During the comprehensive MERN (MongoDB, Express, React, Node) stack development training, hands-on experience was gained in building and deploying responsive web applications.\n",
    "- Worked under the supervision of industry experts to provide solutions to real-world problems.\n",
    "- Developed proficiency in front-end development, creating dynamic user interfaces using React.\n",
    "- Furthermore, valuable knowledge and extensive practical experience were diligently acquired in API building and proficiently handling hosting operations.\n",
    "Projects\n",
    "1. Exercise Tracker (Final Project at CONTOUR)\n",
    "- The Exercise Tracker project utilizes the MERN stack, including MongoDB, Express, React, and Node.js, along with Bootstrap and Material UI. It offers a visually appealing, user-friendly experience with a responsive design, catering to various devices. Secure login is implemented using JWT tokens for seamless activity management.\n",
    "2. Managee\n",
    "- Efficiently developing the front-end of the software team management website, the project showcased proficient utilization of HTML, CSS, JavaScript, jQuery, and the feature-rich JavaScript library, Owl Carousel. With a strong emphasis on responsive design, the website ensures a seamless user experience and intuitive features.\n",
    "- Live demo: https://ehtish.github.io/managee/\n",
    "3. Mr. Mashwara\n",
    "- Developed a chrome extension project utilizing the advice API with skillful implementation of HTML5, CSS3, JavaScript, and JSON.\n",
    "- Live demo: https://github.com/Ehtish/Mr.Mashwara\n",
    "4. Fylo\n",
    "- Skillfully created Fylo, a file securing website, utilizing HTML5 and CSS3 with a special feature of dynamically responsive font size functionality, showcasing technical expertise and innovation.\n",
    "- Live demo: https://ehtish.github.io/fylo-dark/\n",
    "5. Portfolio\n",
    "- Recently collaborated on a dynamic portfolio project that demonstrated proficiency in HTML5, CSS3, Bootstrap 4, and JavaScript. Impressively showcased front-end skills through custom styling, responsive design, and engaging interactive features.\n",
    "- Live demo: https://ehtish.github.io/asif-portfolio/\n",
    "- Note: Explore more projects and contributions on my GitHub profile: https://github.com/Ehtish\n",
    "Academics\n",
    "BSCS\n",
    "SINDH MADRASATUL ISLAM UNVERSITY\n",
    "Jan 2016 -2020\n",
    "Skills\n",
    "- HTML5, CSS3, Javascript, Bootstrap, React, Node, Express, and MongoDB.\n",
    "Soft Skills\n",
    "- Communication, Problem Solving, Adaptability, Teamwork and Time Management.\n",
    "Platforms - Git, GitHub, Netlify and MySQL.\n",
    "Beyond Academics - Reading Books and Gaming.\n",
    "'''\n",
    "\n",
    "job_description_text = '''\n",
    "A Frontend Developer is responsible for creating and implementing the visual and interactive elements of a website or application. They work closely with designers, back-end developers, and stakeholders to ensure that the user experience is seamless and intuitive. Frontend Developers use a combination of programming languages and tools to bring design concepts to life, and must be able to balance technical skills with creativity and attention to detail.\n",
    "\n",
    "Key Responsibilities:\n",
    "- Collaborate with designers, back-end developers, and stakeholders to develop and implement user-friendly interfaces and interactive features\n",
    "- Write clean, efficient, and well-documented code using HTML, CSS, and JavaScript\n",
    "- Hands-on experience with JS libraries and frameworks like ReactJS, VueJS, Angular\n",
    "- Should be able to connect APIs with frontend shared by backend team\n",
    "- Optimize web pages for maximum speed and scalability\n",
    "- Ensure cross-browser and cross-device compatibility\n",
    "- Identify and troubleshoot issues related to performance, user experience, and accessibility\n",
    "- Stay up-to-date with emerging trends and technologies in web development\n",
    "- Conduct usability testing and gather feedback from users to improve website or application design\n",
    "- Communicate technical information to non-technical stakeholders\n",
    "\n",
    "Qualifications:\n",
    "- Bachelor's degree in Computer Science, Software Engineering, or related field\n",
    "- Proven experience as a Frontend Developer or similar role\n",
    "- Proficiency in HTML, CSS, JavaScript, and related frameworks such as React, Angular, or Vue.js\n",
    "- Experience with responsive design, mobile-first development, and cross-browser compatibility\n",
    "- Knowledge of user experience (UX) design principles and methodologies\n",
    "- Familiarity with version control tools such as Git\n",
    "- Strong problem-solving and analytical skills\n",
    "- Excellent communication and teamwork abilities\n",
    "\n",
    "Preferred Qualifications:\n",
    "- Experience with web performance optimization techniques\n",
    "- Familiarity with server-side scripting languages such as PHP or Node.js\n",
    "- Knowledge of search engine optimization (SEO) best practices\n",
    "- Experience with web accessibility standards and guidelines (WCAG)\n",
    "- Strong portfolio showcasing previous web development projects\n",
    "\n",
    "Job Type: Full-tim\n",
    "'''\n",
    "\n",
    "matched_keywords = keyword_matching(resume_text, job_description_text)\n",
    "\n",
    "print(\"Matched Keywords:\", matched_keywords)\n",
    "print(\"Number of Matches:\", len(matched_keywords))\n"
   ]
  },
  {
   "cell_type": "code",
   "execution_count": 45,
   "metadata": {},
   "outputs": [
    {
     "name": "stdout",
     "output_type": "stream",
     "text": [
      "Requirement already satisfied: rake-nltk in c:\\users\\asif-lfd\\anaconda3\\lib\\site-packages (1.0.6)\n",
      "Requirement already satisfied: nltk<4.0.0,>=3.6.2 in c:\\users\\asif-lfd\\anaconda3\\lib\\site-packages (from rake-nltk) (3.7)\n",
      "Requirement already satisfied: click in c:\\users\\asif-lfd\\anaconda3\\lib\\site-packages (from nltk<4.0.0,>=3.6.2->rake-nltk) (8.0.4)\n",
      "Requirement already satisfied: joblib in c:\\users\\asif-lfd\\anaconda3\\lib\\site-packages (from nltk<4.0.0,>=3.6.2->rake-nltk) (1.2.0)\n",
      "Requirement already satisfied: regex>=2021.8.3 in c:\\users\\asif-lfd\\anaconda3\\lib\\site-packages (from nltk<4.0.0,>=3.6.2->rake-nltk) (2022.7.9)\n",
      "Requirement already satisfied: tqdm in c:\\users\\asif-lfd\\anaconda3\\lib\\site-packages (from nltk<4.0.0,>=3.6.2->rake-nltk) (4.64.1)\n",
      "Requirement already satisfied: colorama in c:\\users\\asif-lfd\\anaconda3\\lib\\site-packages (from click->nltk<4.0.0,>=3.6.2->rake-nltk) (0.4.5)\n",
      "Note: you may need to restart the kernel to use updated packages.\n"
     ]
    },
    {
     "name": "stderr",
     "output_type": "stream",
     "text": [
      "WARNING: Ignoring invalid distribution -pencv-python (c:\\users\\asif-lfd\\anaconda3\\lib\\site-packages)\n",
      "WARNING: Ignoring invalid distribution -pencv-python (c:\\users\\asif-lfd\\anaconda3\\lib\\site-packages)\n"
     ]
    }
   ],
   "source": [
    "pip install rake-nltk\n"
   ]
  },
  {
   "cell_type": "code",
   "execution_count": 47,
   "metadata": {},
   "outputs": [
    {
     "name": "stderr",
     "output_type": "stream",
     "text": [
      "[nltk_data] Downloading package stopwords to C:\\Users\\Asif-\n",
      "[nltk_data]     LFD\\AppData\\Roaming\\nltk_data...\n",
      "[nltk_data]   Unzipping corpora\\stopwords.zip.\n"
     ]
    },
    {
     "data": {
      "text/plain": [
       "True"
      ]
     },
     "execution_count": 47,
     "metadata": {},
     "output_type": "execute_result"
    }
   ],
   "source": [
    "import nltk\n",
    "nltk.download('stopwords')\n"
   ]
  },
  {
   "cell_type": "code",
   "execution_count": 48,
   "metadata": {},
   "outputs": [
    {
     "ename": "LookupError",
     "evalue": "\n**********************************************************************\n  Resource \u001b[93mpunkt\u001b[0m not found.\n  Please use the NLTK Downloader to obtain the resource:\n\n  \u001b[31m>>> import nltk\n  >>> nltk.download('punkt')\n  \u001b[0m\n  For more information see: https://www.nltk.org/data.html\n\n  Attempted to load \u001b[93mtokenizers/punkt/english.pickle\u001b[0m\n\n  Searched in:\n    - 'C:\\\\Users\\\\Asif-LFD/nltk_data'\n    - 'c:\\\\Users\\\\Asif-LFD\\\\anaconda3\\\\nltk_data'\n    - 'c:\\\\Users\\\\Asif-LFD\\\\anaconda3\\\\share\\\\nltk_data'\n    - 'c:\\\\Users\\\\Asif-LFD\\\\anaconda3\\\\lib\\\\nltk_data'\n    - 'C:\\\\Users\\\\Asif-LFD\\\\AppData\\\\Roaming\\\\nltk_data'\n    - 'C:\\\\nltk_data'\n    - 'D:\\\\nltk_data'\n    - 'E:\\\\nltk_data'\n    - ''\n**********************************************************************\n",
     "output_type": "error",
     "traceback": [
      "\u001b[1;31m---------------------------------------------------------------------------\u001b[0m",
      "\u001b[1;31mLookupError\u001b[0m                               Traceback (most recent call last)",
      "\u001b[1;32m~\\AppData\\Local\\Temp\\ipykernel_7768\\3667622076.py\u001b[0m in \u001b[0;36m<module>\u001b[1;34m\u001b[0m\n\u001b[0;32m     16\u001b[0m \u001b[1;31m# Example usage\u001b[0m\u001b[1;33m\u001b[0m\u001b[1;33m\u001b[0m\u001b[0m\n\u001b[0;32m     17\u001b[0m \u001b[1;31m# job_description_text = \"Job description text here\"\u001b[0m\u001b[1;33m\u001b[0m\u001b[1;33m\u001b[0m\u001b[0m\n\u001b[1;32m---> 18\u001b[1;33m \u001b[0mkeywords\u001b[0m \u001b[1;33m=\u001b[0m \u001b[0mextract_keywords\u001b[0m\u001b[1;33m(\u001b[0m\u001b[0mjob_description_text\u001b[0m\u001b[1;33m)\u001b[0m\u001b[1;33m\u001b[0m\u001b[1;33m\u001b[0m\u001b[0m\n\u001b[0m\u001b[0;32m     19\u001b[0m \u001b[1;33m\u001b[0m\u001b[0m\n\u001b[0;32m     20\u001b[0m \u001b[1;31m# Print the extracted keywords\u001b[0m\u001b[1;33m\u001b[0m\u001b[1;33m\u001b[0m\u001b[0m\n",
      "\u001b[1;32m~\\AppData\\Local\\Temp\\ipykernel_7768\\3667622076.py\u001b[0m in \u001b[0;36mextract_keywords\u001b[1;34m(job_description)\u001b[0m\n\u001b[0;32m      7\u001b[0m \u001b[1;33m\u001b[0m\u001b[0m\n\u001b[0;32m      8\u001b[0m     \u001b[1;31m# Extract keywords\u001b[0m\u001b[1;33m\u001b[0m\u001b[1;33m\u001b[0m\u001b[0m\n\u001b[1;32m----> 9\u001b[1;33m     \u001b[0mr\u001b[0m\u001b[1;33m.\u001b[0m\u001b[0mextract_keywords_from_text\u001b[0m\u001b[1;33m(\u001b[0m\u001b[0mjob_description\u001b[0m\u001b[1;33m)\u001b[0m\u001b[1;33m\u001b[0m\u001b[1;33m\u001b[0m\u001b[0m\n\u001b[0m\u001b[0;32m     10\u001b[0m \u001b[1;33m\u001b[0m\u001b[0m\n\u001b[0;32m     11\u001b[0m     \u001b[1;31m# Get the ranked keywords\u001b[0m\u001b[1;33m\u001b[0m\u001b[1;33m\u001b[0m\u001b[0m\n",
      "\u001b[1;32mc:\\Users\\Asif-LFD\\anaconda3\\lib\\site-packages\\rake_nltk\\rake.py\u001b[0m in \u001b[0;36mextract_keywords_from_text\u001b[1;34m(self, text)\u001b[0m\n\u001b[0;32m    124\u001b[0m         \u001b[1;33m:\u001b[0m\u001b[0mparam\u001b[0m \u001b[0mtext\u001b[0m\u001b[1;33m:\u001b[0m \u001b[0mText\u001b[0m \u001b[0mto\u001b[0m \u001b[0mextract\u001b[0m \u001b[0mkeywords\u001b[0m \u001b[1;32mfrom\u001b[0m\u001b[1;33m,\u001b[0m \u001b[0mprovided\u001b[0m \u001b[1;32mas\u001b[0m \u001b[0ma\u001b[0m \u001b[0mstring\u001b[0m\u001b[1;33m.\u001b[0m\u001b[1;33m\u001b[0m\u001b[1;33m\u001b[0m\u001b[0m\n\u001b[0;32m    125\u001b[0m         \"\"\"\n\u001b[1;32m--> 126\u001b[1;33m         \u001b[0msentences\u001b[0m\u001b[1;33m:\u001b[0m \u001b[0mList\u001b[0m\u001b[1;33m[\u001b[0m\u001b[0mSentence\u001b[0m\u001b[1;33m]\u001b[0m \u001b[1;33m=\u001b[0m \u001b[0mself\u001b[0m\u001b[1;33m.\u001b[0m\u001b[0m_tokenize_text_to_sentences\u001b[0m\u001b[1;33m(\u001b[0m\u001b[0mtext\u001b[0m\u001b[1;33m)\u001b[0m\u001b[1;33m\u001b[0m\u001b[1;33m\u001b[0m\u001b[0m\n\u001b[0m\u001b[0;32m    127\u001b[0m         \u001b[0mself\u001b[0m\u001b[1;33m.\u001b[0m\u001b[0mextract_keywords_from_sentences\u001b[0m\u001b[1;33m(\u001b[0m\u001b[0msentences\u001b[0m\u001b[1;33m)\u001b[0m\u001b[1;33m\u001b[0m\u001b[1;33m\u001b[0m\u001b[0m\n\u001b[0;32m    128\u001b[0m \u001b[1;33m\u001b[0m\u001b[0m\n",
      "\u001b[1;32mc:\\Users\\Asif-LFD\\anaconda3\\lib\\site-packages\\rake_nltk\\rake.py\u001b[0m in \u001b[0;36m_tokenize_text_to_sentences\u001b[1;34m(self, text)\u001b[0m\n\u001b[0;32m    178\u001b[0m         \u001b[1;33m:\u001b[0m\u001b[1;32mreturn\u001b[0m\u001b[1;33m:\u001b[0m \u001b[0mList\u001b[0m \u001b[0mof\u001b[0m \u001b[0msentences\u001b[0m \u001b[1;32mas\u001b[0m \u001b[0mper\u001b[0m \u001b[0mthe\u001b[0m \u001b[0mtokenizer\u001b[0m \u001b[0mused\u001b[0m\u001b[1;33m.\u001b[0m\u001b[1;33m\u001b[0m\u001b[1;33m\u001b[0m\u001b[0m\n\u001b[0;32m    179\u001b[0m         \"\"\"\n\u001b[1;32m--> 180\u001b[1;33m         \u001b[1;32mreturn\u001b[0m \u001b[0mself\u001b[0m\u001b[1;33m.\u001b[0m\u001b[0msentence_tokenizer\u001b[0m\u001b[1;33m(\u001b[0m\u001b[0mtext\u001b[0m\u001b[1;33m)\u001b[0m\u001b[1;33m\u001b[0m\u001b[1;33m\u001b[0m\u001b[0m\n\u001b[0m\u001b[0;32m    181\u001b[0m \u001b[1;33m\u001b[0m\u001b[0m\n\u001b[0;32m    182\u001b[0m     \u001b[1;32mdef\u001b[0m \u001b[0m_tokenize_sentence_to_words\u001b[0m\u001b[1;33m(\u001b[0m\u001b[0mself\u001b[0m\u001b[1;33m,\u001b[0m \u001b[0msentence\u001b[0m\u001b[1;33m:\u001b[0m \u001b[0mSentence\u001b[0m\u001b[1;33m)\u001b[0m \u001b[1;33m->\u001b[0m \u001b[0mList\u001b[0m\u001b[1;33m[\u001b[0m\u001b[0mWord\u001b[0m\u001b[1;33m]\u001b[0m\u001b[1;33m:\u001b[0m\u001b[1;33m\u001b[0m\u001b[1;33m\u001b[0m\u001b[0m\n",
      "\u001b[1;32mc:\\Users\\Asif-LFD\\anaconda3\\lib\\site-packages\\nltk\\tokenize\\__init__.py\u001b[0m in \u001b[0;36msent_tokenize\u001b[1;34m(text, language)\u001b[0m\n\u001b[0;32m    104\u001b[0m     \u001b[1;33m:\u001b[0m\u001b[0mparam\u001b[0m \u001b[0mlanguage\u001b[0m\u001b[1;33m:\u001b[0m \u001b[0mthe\u001b[0m \u001b[0mmodel\u001b[0m \u001b[0mname\u001b[0m \u001b[1;32min\u001b[0m \u001b[0mthe\u001b[0m \u001b[0mPunkt\u001b[0m \u001b[0mcorpus\u001b[0m\u001b[1;33m\u001b[0m\u001b[1;33m\u001b[0m\u001b[0m\n\u001b[0;32m    105\u001b[0m     \"\"\"\n\u001b[1;32m--> 106\u001b[1;33m     \u001b[0mtokenizer\u001b[0m \u001b[1;33m=\u001b[0m \u001b[0mload\u001b[0m\u001b[1;33m(\u001b[0m\u001b[1;34mf\"tokenizers/punkt/{language}.pickle\"\u001b[0m\u001b[1;33m)\u001b[0m\u001b[1;33m\u001b[0m\u001b[1;33m\u001b[0m\u001b[0m\n\u001b[0m\u001b[0;32m    107\u001b[0m     \u001b[1;32mreturn\u001b[0m \u001b[0mtokenizer\u001b[0m\u001b[1;33m.\u001b[0m\u001b[0mtokenize\u001b[0m\u001b[1;33m(\u001b[0m\u001b[0mtext\u001b[0m\u001b[1;33m)\u001b[0m\u001b[1;33m\u001b[0m\u001b[1;33m\u001b[0m\u001b[0m\n\u001b[0;32m    108\u001b[0m \u001b[1;33m\u001b[0m\u001b[0m\n",
      "\u001b[1;32mc:\\Users\\Asif-LFD\\anaconda3\\lib\\site-packages\\nltk\\data.py\u001b[0m in \u001b[0;36mload\u001b[1;34m(resource_url, format, cache, verbose, logic_parser, fstruct_reader, encoding)\u001b[0m\n\u001b[0;32m    748\u001b[0m \u001b[1;33m\u001b[0m\u001b[0m\n\u001b[0;32m    749\u001b[0m     \u001b[1;31m# Load the resource.\u001b[0m\u001b[1;33m\u001b[0m\u001b[1;33m\u001b[0m\u001b[0m\n\u001b[1;32m--> 750\u001b[1;33m     \u001b[0mopened_resource\u001b[0m \u001b[1;33m=\u001b[0m \u001b[0m_open\u001b[0m\u001b[1;33m(\u001b[0m\u001b[0mresource_url\u001b[0m\u001b[1;33m)\u001b[0m\u001b[1;33m\u001b[0m\u001b[1;33m\u001b[0m\u001b[0m\n\u001b[0m\u001b[0;32m    751\u001b[0m \u001b[1;33m\u001b[0m\u001b[0m\n\u001b[0;32m    752\u001b[0m     \u001b[1;32mif\u001b[0m \u001b[0mformat\u001b[0m \u001b[1;33m==\u001b[0m \u001b[1;34m\"raw\"\u001b[0m\u001b[1;33m:\u001b[0m\u001b[1;33m\u001b[0m\u001b[1;33m\u001b[0m\u001b[0m\n",
      "\u001b[1;32mc:\\Users\\Asif-LFD\\anaconda3\\lib\\site-packages\\nltk\\data.py\u001b[0m in \u001b[0;36m_open\u001b[1;34m(resource_url)\u001b[0m\n\u001b[0;32m    874\u001b[0m \u001b[1;33m\u001b[0m\u001b[0m\n\u001b[0;32m    875\u001b[0m     \u001b[1;32mif\u001b[0m \u001b[0mprotocol\u001b[0m \u001b[1;32mis\u001b[0m \u001b[1;32mNone\u001b[0m \u001b[1;32mor\u001b[0m \u001b[0mprotocol\u001b[0m\u001b[1;33m.\u001b[0m\u001b[0mlower\u001b[0m\u001b[1;33m(\u001b[0m\u001b[1;33m)\u001b[0m \u001b[1;33m==\u001b[0m \u001b[1;34m\"nltk\"\u001b[0m\u001b[1;33m:\u001b[0m\u001b[1;33m\u001b[0m\u001b[1;33m\u001b[0m\u001b[0m\n\u001b[1;32m--> 876\u001b[1;33m         \u001b[1;32mreturn\u001b[0m \u001b[0mfind\u001b[0m\u001b[1;33m(\u001b[0m\u001b[0mpath_\u001b[0m\u001b[1;33m,\u001b[0m \u001b[0mpath\u001b[0m \u001b[1;33m+\u001b[0m \u001b[1;33m[\u001b[0m\u001b[1;34m\"\"\u001b[0m\u001b[1;33m]\u001b[0m\u001b[1;33m)\u001b[0m\u001b[1;33m.\u001b[0m\u001b[0mopen\u001b[0m\u001b[1;33m(\u001b[0m\u001b[1;33m)\u001b[0m\u001b[1;33m\u001b[0m\u001b[1;33m\u001b[0m\u001b[0m\n\u001b[0m\u001b[0;32m    877\u001b[0m     \u001b[1;32melif\u001b[0m \u001b[0mprotocol\u001b[0m\u001b[1;33m.\u001b[0m\u001b[0mlower\u001b[0m\u001b[1;33m(\u001b[0m\u001b[1;33m)\u001b[0m \u001b[1;33m==\u001b[0m \u001b[1;34m\"file\"\u001b[0m\u001b[1;33m:\u001b[0m\u001b[1;33m\u001b[0m\u001b[1;33m\u001b[0m\u001b[0m\n\u001b[0;32m    878\u001b[0m         \u001b[1;31m# urllib might not use mode='rb', so handle this one ourselves:\u001b[0m\u001b[1;33m\u001b[0m\u001b[1;33m\u001b[0m\u001b[0m\n",
      "\u001b[1;32mc:\\Users\\Asif-LFD\\anaconda3\\lib\\site-packages\\nltk\\data.py\u001b[0m in \u001b[0;36mfind\u001b[1;34m(resource_name, paths)\u001b[0m\n\u001b[0;32m    581\u001b[0m     \u001b[0msep\u001b[0m \u001b[1;33m=\u001b[0m \u001b[1;34m\"*\"\u001b[0m \u001b[1;33m*\u001b[0m \u001b[1;36m70\u001b[0m\u001b[1;33m\u001b[0m\u001b[1;33m\u001b[0m\u001b[0m\n\u001b[0;32m    582\u001b[0m     \u001b[0mresource_not_found\u001b[0m \u001b[1;33m=\u001b[0m \u001b[1;34mf\"\\n{sep}\\n{msg}\\n{sep}\\n\"\u001b[0m\u001b[1;33m\u001b[0m\u001b[1;33m\u001b[0m\u001b[0m\n\u001b[1;32m--> 583\u001b[1;33m     \u001b[1;32mraise\u001b[0m \u001b[0mLookupError\u001b[0m\u001b[1;33m(\u001b[0m\u001b[0mresource_not_found\u001b[0m\u001b[1;33m)\u001b[0m\u001b[1;33m\u001b[0m\u001b[1;33m\u001b[0m\u001b[0m\n\u001b[0m\u001b[0;32m    584\u001b[0m \u001b[1;33m\u001b[0m\u001b[0m\n\u001b[0;32m    585\u001b[0m \u001b[1;33m\u001b[0m\u001b[0m\n",
      "\u001b[1;31mLookupError\u001b[0m: \n**********************************************************************\n  Resource \u001b[93mpunkt\u001b[0m not found.\n  Please use the NLTK Downloader to obtain the resource:\n\n  \u001b[31m>>> import nltk\n  >>> nltk.download('punkt')\n  \u001b[0m\n  For more information see: https://www.nltk.org/data.html\n\n  Attempted to load \u001b[93mtokenizers/punkt/english.pickle\u001b[0m\n\n  Searched in:\n    - 'C:\\\\Users\\\\Asif-LFD/nltk_data'\n    - 'c:\\\\Users\\\\Asif-LFD\\\\anaconda3\\\\nltk_data'\n    - 'c:\\\\Users\\\\Asif-LFD\\\\anaconda3\\\\share\\\\nltk_data'\n    - 'c:\\\\Users\\\\Asif-LFD\\\\anaconda3\\\\lib\\\\nltk_data'\n    - 'C:\\\\Users\\\\Asif-LFD\\\\AppData\\\\Roaming\\\\nltk_data'\n    - 'C:\\\\nltk_data'\n    - 'D:\\\\nltk_data'\n    - 'E:\\\\nltk_data'\n    - ''\n**********************************************************************\n"
     ]
    }
   ],
   "source": [
    "import nltk\n",
    "from rake_nltk import Rake\n",
    "\n",
    "def extract_keywords(job_description):\n",
    "    # Initialize Rake-NLTK\n",
    "    r = Rake()\n",
    "\n",
    "    # Extract keywords\n",
    "    r.extract_keywords_from_text(job_description)\n",
    "\n",
    "    # Get the ranked keywords\n",
    "    ranked_keywords = r.get_ranked_phrases()\n",
    "\n",
    "    return ranked_keywords\n",
    "\n",
    "# Example usage\n",
    "# job_description_text = \"Job description text here\"\n",
    "keywords = extract_keywords(job_description_text)\n",
    "\n",
    "# Print the extracted keywords\n",
    "for keyword in keywords:\n",
    "    print(keyword)\n"
   ]
  },
  {
   "cell_type": "code",
   "execution_count": null,
   "metadata": {},
   "outputs": [],
   "source": [
    "import re\n",
    "\n",
    "def keyword_matching(resume, job_description):\n",
    "    resume_keywords = set(re.findall(r'\\b\\w+\\b', resume.lower()))\n",
    "    job_keywords = set(re.findall(r'\\b\\w+\\b', job_description.lower()))\n",
    "    matched_keywords = resume_keywords.intersection(job_keywords)\n",
    "    return matched_keywords\n",
    "\n",
    "def calculate_percentage_match(resume, job_description):\n",
    "    total_keywords_in_job = len(re.findall(r'\\b\\w+\\b', job_description.lower()))\n",
    "    matched_keywords_count = len(keyword_matching(resume, job_description))\n",
    "    percentage_match = (matched_keywords_count / total_keywords_in_job) * 100\n",
    "    return round(percentage_match, 2)\n",
    "\n",
    "# Example usage\n",
    "resume_text = \"Your resume text here\"\n",
    "job_description_text = \"Job description text here\"\n",
    "percentage_match = calculate_percentage_match(resume_text, job_description_text)\n",
    "print(\"Percentage Match:\", percentage_match)\n",
    "percentage_match = (matched_keywords_count / total_keywords_in_job) * 100\n"
   ]
  }
 ],
 "metadata": {
  "kernelspec": {
   "display_name": "base",
   "language": "python",
   "name": "python3"
  },
  "language_info": {
   "codemirror_mode": {
    "name": "ipython",
    "version": 3
   },
   "file_extension": ".py",
   "mimetype": "text/x-python",
   "name": "python",
   "nbconvert_exporter": "python",
   "pygments_lexer": "ipython3",
   "version": "3.9.13"
  },
  "orig_nbformat": 4
 },
 "nbformat": 4,
 "nbformat_minor": 2
}
